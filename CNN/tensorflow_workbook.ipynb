{
 "cells": [
  {
   "cell_type": "code",
   "execution_count": 1,
   "metadata": {},
   "outputs": [],
   "source": [
    "import json"
   ]
  },
  {
   "cell_type": "code",
   "execution_count": 2,
   "metadata": {},
   "outputs": [],
   "source": [
    "import numpy"
   ]
  },
  {
   "cell_type": "code",
   "execution_count": 3,
   "metadata": {},
   "outputs": [],
   "source": [
    "import tensorflow as tf"
   ]
  },
  {
   "cell_type": "code",
   "execution_count": 5,
   "metadata": {},
   "outputs": [],
   "source": [
    "import numpy as np"
   ]
  },
  {
   "cell_type": "code",
   "execution_count": 12,
   "metadata": {},
   "outputs": [],
   "source": [
    "a = np.random.rand(4,4,3)"
   ]
  },
  {
   "cell_type": "code",
   "execution_count": 13,
   "metadata": {},
   "outputs": [],
   "source": [
    "a_t = tf.convert_to_tensor(a)"
   ]
  },
  {
   "cell_type": "code",
   "execution_count": 14,
   "metadata": {},
   "outputs": [
    {
     "data": {
      "text/plain": [
       "<tf.Tensor: id=3, shape=(4, 4, 3), dtype=float64, numpy=\n",
       "array([[[0.18460587, 0.00689686, 0.51756451],\n",
       "        [0.08836564, 0.73976625, 0.19996612],\n",
       "        [0.64323691, 0.20018949, 0.25555362],\n",
       "        [0.31827041, 0.05725154, 0.50338089]],\n",
       "\n",
       "       [[0.36351857, 0.95797919, 0.57172305],\n",
       "        [0.3014754 , 0.53317163, 0.19251167],\n",
       "        [0.62339867, 0.34503763, 0.51656846],\n",
       "        [0.52579644, 0.18976593, 0.39562454]],\n",
       "\n",
       "       [[0.43231538, 0.97699118, 0.96367485],\n",
       "        [0.35659375, 0.50563202, 0.53714655],\n",
       "        [0.91530649, 0.6307701 , 0.41462849],\n",
       "        [0.80929238, 0.41834657, 0.24008643]],\n",
       "\n",
       "       [[0.11588485, 0.32059413, 0.05404232],\n",
       "        [0.89919208, 0.11156348, 0.71302872],\n",
       "        [0.66637907, 0.58829913, 0.35818307],\n",
       "        [0.96482333, 0.61381942, 0.85802036]]])>"
      ]
     },
     "execution_count": 14,
     "metadata": {},
     "output_type": "execute_result"
    }
   ],
   "source": [
    "a_t"
   ]
  },
  {
   "cell_type": "code",
   "execution_count": 16,
   "metadata": {},
   "outputs": [],
   "source": [
    "b_t = tf.transpose(a_t)"
   ]
  },
  {
   "cell_type": "code",
   "execution_count": 17,
   "metadata": {},
   "outputs": [
    {
     "data": {
      "text/plain": [
       "TensorShape([3, 4, 4])"
      ]
     },
     "execution_count": 17,
     "metadata": {},
     "output_type": "execute_result"
    }
   ],
   "source": [
    "b_t.shape"
   ]
  },
  {
   "cell_type": "code",
   "execution_count": 20,
   "metadata": {},
   "outputs": [],
   "source": [
    "c_t = tf.reshape(b_t, [3, -1])"
   ]
  },
  {
   "cell_type": "code",
   "execution_count": 21,
   "metadata": {},
   "outputs": [
    {
     "data": {
      "text/plain": [
       "TensorShape([3, 16])"
      ]
     },
     "execution_count": 21,
     "metadata": {},
     "output_type": "execute_result"
    }
   ],
   "source": [
    "c_t.shape"
   ]
  },
  {
   "cell_type": "code",
   "execution_count": 22,
   "metadata": {},
   "outputs": [
    {
     "data": {
      "text/plain": [
       "<tf.Tensor: id=11, shape=(3, 16), dtype=float64, numpy=\n",
       "array([[0.18460587, 0.36351857, 0.43231538, 0.11588485, 0.08836564,\n",
       "        0.3014754 , 0.35659375, 0.89919208, 0.64323691, 0.62339867,\n",
       "        0.91530649, 0.66637907, 0.31827041, 0.52579644, 0.80929238,\n",
       "        0.96482333],\n",
       "       [0.00689686, 0.95797919, 0.97699118, 0.32059413, 0.73976625,\n",
       "        0.53317163, 0.50563202, 0.11156348, 0.20018949, 0.34503763,\n",
       "        0.6307701 , 0.58829913, 0.05725154, 0.18976593, 0.41834657,\n",
       "        0.61381942],\n",
       "       [0.51756451, 0.57172305, 0.96367485, 0.05404232, 0.19996612,\n",
       "        0.19251167, 0.53714655, 0.71302872, 0.25555362, 0.51656846,\n",
       "        0.41462849, 0.35818307, 0.50338089, 0.39562454, 0.24008643,\n",
       "        0.85802036]])>"
      ]
     },
     "execution_count": 22,
     "metadata": {},
     "output_type": "execute_result"
    }
   ],
   "source": [
    "c_t"
   ]
  },
  {
   "cell_type": "code",
   "execution_count": 25,
   "metadata": {},
   "outputs": [],
   "source": [
    "d_t = tf.transpose(a_t, perm=[2,0,1])"
   ]
  },
  {
   "cell_type": "code",
   "execution_count": 26,
   "metadata": {},
   "outputs": [
    {
     "data": {
      "text/plain": [
       "<tf.Tensor: id=15, shape=(3, 4, 4), dtype=float64, numpy=\n",
       "array([[[0.18460587, 0.08836564, 0.64323691, 0.31827041],\n",
       "        [0.36351857, 0.3014754 , 0.62339867, 0.52579644],\n",
       "        [0.43231538, 0.35659375, 0.91530649, 0.80929238],\n",
       "        [0.11588485, 0.89919208, 0.66637907, 0.96482333]],\n",
       "\n",
       "       [[0.00689686, 0.73976625, 0.20018949, 0.05725154],\n",
       "        [0.95797919, 0.53317163, 0.34503763, 0.18976593],\n",
       "        [0.97699118, 0.50563202, 0.6307701 , 0.41834657],\n",
       "        [0.32059413, 0.11156348, 0.58829913, 0.61381942]],\n",
       "\n",
       "       [[0.51756451, 0.19996612, 0.25555362, 0.50338089],\n",
       "        [0.57172305, 0.19251167, 0.51656846, 0.39562454],\n",
       "        [0.96367485, 0.53714655, 0.41462849, 0.24008643],\n",
       "        [0.05404232, 0.71302872, 0.35818307, 0.85802036]]])>"
      ]
     },
     "execution_count": 26,
     "metadata": {},
     "output_type": "execute_result"
    }
   ],
   "source": [
    "d_t"
   ]
  },
  {
   "cell_type": "code",
   "execution_count": 27,
   "metadata": {},
   "outputs": [],
   "source": [
    "e_t = tf.transpose(a_t, perm=[2,1,0])"
   ]
  },
  {
   "cell_type": "code",
   "execution_count": 28,
   "metadata": {},
   "outputs": [
    {
     "data": {
      "text/plain": [
       "<tf.Tensor: id=17, shape=(3, 4, 4), dtype=float64, numpy=\n",
       "array([[[0.18460587, 0.36351857, 0.43231538, 0.11588485],\n",
       "        [0.08836564, 0.3014754 , 0.35659375, 0.89919208],\n",
       "        [0.64323691, 0.62339867, 0.91530649, 0.66637907],\n",
       "        [0.31827041, 0.52579644, 0.80929238, 0.96482333]],\n",
       "\n",
       "       [[0.00689686, 0.95797919, 0.97699118, 0.32059413],\n",
       "        [0.73976625, 0.53317163, 0.50563202, 0.11156348],\n",
       "        [0.20018949, 0.34503763, 0.6307701 , 0.58829913],\n",
       "        [0.05725154, 0.18976593, 0.41834657, 0.61381942]],\n",
       "\n",
       "       [[0.51756451, 0.57172305, 0.96367485, 0.05404232],\n",
       "        [0.19996612, 0.19251167, 0.53714655, 0.71302872],\n",
       "        [0.25555362, 0.51656846, 0.41462849, 0.35818307],\n",
       "        [0.50338089, 0.39562454, 0.24008643, 0.85802036]]])>"
      ]
     },
     "execution_count": 28,
     "metadata": {},
     "output_type": "execute_result"
    }
   ],
   "source": [
    "e_t"
   ]
  },
  {
   "cell_type": "code",
   "execution_count": 29,
   "metadata": {},
   "outputs": [
    {
     "data": {
      "text/plain": [
       "<tf.Tensor: id=7, shape=(3, 4, 4), dtype=float64, numpy=\n",
       "array([[[0.18460587, 0.36351857, 0.43231538, 0.11588485],\n",
       "        [0.08836564, 0.3014754 , 0.35659375, 0.89919208],\n",
       "        [0.64323691, 0.62339867, 0.91530649, 0.66637907],\n",
       "        [0.31827041, 0.52579644, 0.80929238, 0.96482333]],\n",
       "\n",
       "       [[0.00689686, 0.95797919, 0.97699118, 0.32059413],\n",
       "        [0.73976625, 0.53317163, 0.50563202, 0.11156348],\n",
       "        [0.20018949, 0.34503763, 0.6307701 , 0.58829913],\n",
       "        [0.05725154, 0.18976593, 0.41834657, 0.61381942]],\n",
       "\n",
       "       [[0.51756451, 0.57172305, 0.96367485, 0.05404232],\n",
       "        [0.19996612, 0.19251167, 0.53714655, 0.71302872],\n",
       "        [0.25555362, 0.51656846, 0.41462849, 0.35818307],\n",
       "        [0.50338089, 0.39562454, 0.24008643, 0.85802036]]])>"
      ]
     },
     "execution_count": 29,
     "metadata": {},
     "output_type": "execute_result"
    }
   ],
   "source": [
    "b_t"
   ]
  },
  {
   "cell_type": "code",
   "execution_count": null,
   "metadata": {},
   "outputs": [],
   "source": []
  }
 ],
 "metadata": {
  "kernelspec": {
   "display_name": "Python 3",
   "language": "python",
   "name": "python3"
  },
  "language_info": {
   "codemirror_mode": {
    "name": "ipython",
    "version": 3
   },
   "file_extension": ".py",
   "mimetype": "text/x-python",
   "name": "python",
   "nbconvert_exporter": "python",
   "pygments_lexer": "ipython3",
   "version": "3.6.6"
  }
 },
 "nbformat": 4,
 "nbformat_minor": 4
}
