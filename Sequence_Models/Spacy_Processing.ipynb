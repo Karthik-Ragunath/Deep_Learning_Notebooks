{
 "cells": [
  {
   "cell_type": "code",
   "execution_count": 1,
   "metadata": {},
   "outputs": [],
   "source": [
    "import spacy\n",
    "from spacy_hunspell import spaCyHunSpell\n",
    "from spacy.tokens import Token"
   ]
  },
  {
   "cell_type": "code",
   "execution_count": 2,
   "metadata": {},
   "outputs": [],
   "source": [
    "# !python -m spacy download en_core_web_sm"
   ]
  },
  {
   "cell_type": "code",
   "execution_count": 3,
   "metadata": {},
   "outputs": [],
   "source": [
    "import hunspell\n",
    "hobj = hunspell.HunSpell('/usr/share/hunspell/en_US.dic', '/usr/share/hunspell/en_US.aff')"
   ]
  },
  {
   "cell_type": "code",
   "execution_count": 4,
   "metadata": {},
   "outputs": [],
   "source": [
    "nlp = spacy.load('en_core_web_sm')\n",
    "hunspell = spaCyHunSpell(nlp, ('/usr/share/hunspell/en_US.dic', '/usr/share/hunspell/en_US.aff'))"
   ]
  },
  {
   "cell_type": "code",
   "execution_count": 18,
   "metadata": {},
   "outputs": [],
   "source": [
    "doc = nlp('I have rer scarf.')\n",
    "# doc = nlp('I have dres and scarf.')"
   ]
  },
  {
   "cell_type": "code",
   "execution_count": 19,
   "metadata": {},
   "outputs": [
    {
     "data": {
      "text/plain": [
       "['err',\n",
       " 're',\n",
       " 'rear',\n",
       " 'res',\n",
       " 'rel',\n",
       " 'rec',\n",
       " 'red',\n",
       " 'reg',\n",
       " 'rem',\n",
       " 'mer',\n",
       " 'rep',\n",
       " 'per',\n",
       " 'her',\n",
       " 'ref',\n",
       " 'fer']"
      ]
     },
     "execution_count": 19,
     "metadata": {},
     "output_type": "execute_result"
    }
   ],
   "source": [
    "red = doc[2]\n",
    "red._.hunspell_spell\n",
    "red._.hunspell_suggest"
   ]
  },
  {
   "cell_type": "code",
   "execution_count": 21,
   "metadata": {},
   "outputs": [
    {
     "name": "stdout",
     "output_type": "stream",
     "text": [
      "text: I\n",
      "lemma: I\n",
      "pos: PRON\n",
      "tag: PRP\n",
      "dep: nsubj\n",
      "shape: X\n",
      "is_alpha: True\n",
      "is_stop: True\n",
      "is_spell_correct None\n",
      "\n",
      "text: have\n",
      "lemma: have\n",
      "pos: VERB\n",
      "tag: VBP\n",
      "dep: ROOT\n",
      "shape: xxxx\n",
      "is_alpha: True\n",
      "is_stop: True\n",
      "is_spell_correct None\n",
      "\n",
      "text: rer\n",
      "lemma: rer\n",
      "pos: NOUN\n",
      "tag: NN\n",
      "dep: compound\n",
      "shape: xxx\n",
      "is_alpha: True\n",
      "is_stop: False\n",
      "is_spell_correct None\n",
      "suggest: ['err', 're', 'rear', 'res', 'rel', 'rec', 'red', 'reg', 'rem', 'mer', 'rep', 'per', 'her', 'ref', 'fer']\n",
      "loc_text: err loc_pos: VERB tag: VB\n",
      "loc_text: re loc_pos: ADV tag: RB\n",
      "loc_text: rear loc_pos: ADJ tag: JJ\n",
      "loc_text: res loc_pos: VERB tag: VBZ\n",
      "loc_text: rel loc_pos: NOUN tag: NN\n",
      "loc_text: rec loc_pos: VERB tag: VB\n",
      "loc_text: red loc_pos: ADJ tag: JJ\n",
      "loc_text: reg loc_pos: VERB tag: VB\n",
      "loc_text: rem loc_pos: VERB tag: VB\n",
      "loc_text: mer loc_pos: INTJ tag: UH\n",
      "loc_text: rep loc_pos: NOUN tag: NN\n",
      "loc_text: per loc_pos: ADP tag: IN\n",
      "loc_text: her loc_pos: PRON tag: PRP\n",
      "loc_text: ref loc_pos: VERB tag: VBD\n",
      "loc_text: fer loc_pos: NOUN tag: NN\n",
      "possible_candidates: ['rear', 'rel', 'red', 'rep', 'fer']\n",
      "\n",
      "text: scarf\n",
      "lemma: scarf\n",
      "pos: NOUN\n",
      "tag: NN\n",
      "dep: dobj\n",
      "shape: xxxx\n",
      "is_alpha: True\n",
      "is_stop: False\n",
      "is_spell_correct None\n",
      "\n",
      "text: .\n",
      "lemma: .\n",
      "pos: PUNCT\n",
      "tag: .\n",
      "dep: punct\n",
      "shape: .\n",
      "is_alpha: False\n",
      "is_stop: False\n",
      "is_spell_correct None\n",
      "\n"
     ]
    }
   ],
   "source": [
    "for token in doc:\n",
    "    print(\"text:\", token.text)\n",
    "    print(\"lemma:\", token.lemma_) \n",
    "    print(\"pos:\", token.pos_)\n",
    "    print('tag:', token.tag_)\n",
    "    print('dep:', token.dep_)\n",
    "    print('shape:',token.shape_) \n",
    "    print('is_alpha:', token.is_alpha)\n",
    "    print('is_stop:', token.is_stop)\n",
    "    print('is_spell_correct', token._.hunspell_spell)\n",
    "    if not hobj.spell(token.text):\n",
    "        possible_candidates = []\n",
    "        print('suggest:', token._.hunspell_suggest)\n",
    "#         print(type(token._.hunspell_suggest[1]))\n",
    "        for tok in token._.hunspell_suggest:\n",
    "            nlp_local = nlp(tok)\n",
    "            for loc in nlp_local:\n",
    "                print('loc_text:', loc.text, 'loc_pos:', loc.pos_, 'tag:', loc.tag_)\n",
    "                if loc.pos_ in (token.pos_,'ADJ') and hobj.spell(loc.text):\n",
    "                    possible_candidates.append(loc.text)\n",
    "        print('possible_candidates:', possible_candidates)\n",
    "    print()"
   ]
  },
  {
   "cell_type": "code",
   "execution_count": null,
   "metadata": {},
   "outputs": [],
   "source": []
  }
 ],
 "metadata": {
  "kernelspec": {
   "display_name": "Python 3",
   "language": "python",
   "name": "python3"
  },
  "language_info": {
   "codemirror_mode": {
    "name": "ipython",
    "version": 3
   },
   "file_extension": ".py",
   "mimetype": "text/x-python",
   "name": "python",
   "nbconvert_exporter": "python",
   "pygments_lexer": "ipython3",
   "version": "3.8.6"
  }
 },
 "nbformat": 4,
 "nbformat_minor": 4
}
