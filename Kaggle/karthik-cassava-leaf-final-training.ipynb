{
 "cells": [
  {
   "cell_type": "code",
   "execution_count": 1,
   "metadata": {
    "_cell_guid": "b1076dfc-b9ad-4769-8c92-a6c4dae69d19",
    "_uuid": "8f2839f25d086af736a60e9eeb907d3b93b6e0e5",
    "execution": {
     "iopub.execute_input": "2021-02-18T22:13:45.608268Z",
     "iopub.status.busy": "2021-02-18T22:13:45.607496Z",
     "iopub.status.idle": "2021-02-18T22:13:45.610342Z",
     "shell.execute_reply": "2021-02-18T22:13:45.609849Z"
    },
    "papermill": {
     "duration": 0.073063,
     "end_time": "2021-02-18T22:13:45.610505",
     "exception": false,
     "start_time": "2021-02-18T22:13:45.537442",
     "status": "completed"
    },
    "tags": []
   },
   "outputs": [],
   "source": [
    "# This Python 3 environment comes with many helpful analytics libraries installed\n",
    "# It is defined by the kaggle/python Docker image: https://github.com/kaggle/docker-python\n",
    "# For example, here's several helpful packages to load\n",
    "\n",
    "import numpy as np # linear algebra\n",
    "import pandas as pd # data processing, CSV file I/O (e.g. pd.read_csv)\n",
    "\n",
    "# Input data files are available in the read-only \"../input/\" directory\n",
    "# For example, running this (by clicking run or pressing Shift+Enter) will list all files under the input directory\n",
    "\n",
    "# import os\n",
    "# for dirname, _, filenames in os.walk('/kaggle/input'):////////\n",
    "#     for filename in filenames:\n",
    "#         print(os.path.join(dirname, filename))\n",
    "#         pass\n",
    "\n",
    "# You can write up to 20GB to the current directory (/kaggle/working/) that gets preserved as output when you create a version using \"Save & Run All\" \n",
    "# You can also write temporary files to /kaggle/temp/, but they won't be saved outside of the current session"
   ]
  },
  {
   "cell_type": "code",
   "execution_count": 2,
   "metadata": {
    "execution": {
     "iopub.execute_input": "2021-02-18T22:13:45.746647Z",
     "iopub.status.busy": "2021-02-18T22:13:45.746143Z",
     "iopub.status.idle": "2021-02-18T22:13:51.225411Z",
     "shell.execute_reply": "2021-02-18T22:13:51.226376Z"
    },
    "papermill": {
     "duration": 5.552514,
     "end_time": "2021-02-18T22:13:51.226670",
     "exception": false,
     "start_time": "2021-02-18T22:13:45.674156",
     "status": "completed"
    },
    "tags": []
   },
   "outputs": [],
   "source": [
    "import h5py\n",
    "from PIL import Image\n",
    "import os\n",
    "import tensorflow as tf\n",
    "import PIL\n",
    "from sklearn.preprocessing import OneHotEncoder\n",
    "from sklearn.preprocessing import LabelEncoder\n",
    "import keras\n",
    "from keras import layers\n",
    "from keras.layers import Input, Add, Dense, Activation, ZeroPadding2D, BatchNormalization, Flatten, Conv2D, AveragePooling2D, MaxPooling2D, GlobalMaxPooling2D\n",
    "from keras.models import Model, load_model\n",
    "from keras.preprocessing import image\n",
    "from keras.utils import layer_utils\n",
    "from keras.utils.data_utils import get_file\n",
    "from keras.applications.imagenet_utils import preprocess_input\n",
    "from IPython.display import SVG\n",
    "from keras.utils.vis_utils import model_to_dot\n",
    "from keras.utils import plot_model\n",
    "from keras.initializers import glorot_uniform\n",
    "import scipy.misc\n",
    "from matplotlib.pyplot import imshow\n",
    "%matplotlib inline\n",
    "import pandas as pd\n",
    "import numpy as np\n",
    "import keras.backend as K"
   ]
  },
  {
   "cell_type": "code",
   "execution_count": 3,
   "metadata": {
    "execution": {
     "iopub.execute_input": "2021-02-18T22:13:51.470854Z",
     "iopub.status.busy": "2021-02-18T22:13:51.470030Z",
     "iopub.status.idle": "2021-02-18T22:13:51.472208Z",
     "shell.execute_reply": "2021-02-18T22:13:51.471536Z"
    },
    "papermill": {
     "duration": 0.120254,
     "end_time": "2021-02-18T22:13:51.472361",
     "exception": false,
     "start_time": "2021-02-18T22:13:51.352107",
     "status": "completed"
    },
    "tags": []
   },
   "outputs": [],
   "source": [
    "# #TPU\n",
    "# tpu = tf.distribute.cluster_resolver.TPUClusterResolver.connect()\n",
    "# tpu_strategy = tf.distribute.experimental.TPUStrategy(tpu)"
   ]
  },
  {
   "cell_type": "code",
   "execution_count": 4,
   "metadata": {
    "execution": {
     "iopub.execute_input": "2021-02-18T22:13:51.694432Z",
     "iopub.status.busy": "2021-02-18T22:13:51.693404Z",
     "iopub.status.idle": "2021-02-18T22:13:51.695881Z",
     "shell.execute_reply": "2021-02-18T22:13:51.695175Z"
    },
    "papermill": {
     "duration": 0.117657,
     "end_time": "2021-02-18T22:13:51.696048",
     "exception": false,
     "start_time": "2021-02-18T22:13:51.578391",
     "status": "completed"
    },
    "tags": []
   },
   "outputs": [],
   "source": [
    "base_dir = \"/kaggle/input/cassava-leaf-disease-classification\""
   ]
  },
  {
   "cell_type": "code",
   "execution_count": 5,
   "metadata": {
    "execution": {
     "iopub.execute_input": "2021-02-18T22:13:51.922440Z",
     "iopub.status.busy": "2021-02-18T22:13:51.921641Z",
     "iopub.status.idle": "2021-02-18T22:13:51.923598Z",
     "shell.execute_reply": "2021-02-18T22:13:51.923034Z"
    },
    "papermill": {
     "duration": 0.107393,
     "end_time": "2021-02-18T22:13:51.923736",
     "exception": false,
     "start_time": "2021-02-18T22:13:51.816343",
     "status": "completed"
    },
    "tags": []
   },
   "outputs": [],
   "source": [
    "train_csv_path = os.path.join(base_dir, 'train.csv')"
   ]
  },
  {
   "cell_type": "code",
   "execution_count": 6,
   "metadata": {
    "execution": {
     "iopub.execute_input": "2021-02-18T22:13:52.300141Z",
     "iopub.status.busy": "2021-02-18T22:13:52.297342Z",
     "iopub.status.idle": "2021-02-18T22:13:52.336990Z",
     "shell.execute_reply": "2021-02-18T22:13:52.337615Z"
    },
    "papermill": {
     "duration": 0.327587,
     "end_time": "2021-02-18T22:13:52.337774",
     "exception": false,
     "start_time": "2021-02-18T22:13:52.010187",
     "status": "completed"
    },
    "tags": []
   },
   "outputs": [],
   "source": [
    "train_df = pd.read_csv(train_csv_path)"
   ]
  },
  {
   "cell_type": "code",
   "execution_count": 7,
   "metadata": {
    "execution": {
     "iopub.execute_input": "2021-02-18T22:13:52.482270Z",
     "iopub.status.busy": "2021-02-18T22:13:52.481526Z",
     "iopub.status.idle": "2021-02-18T22:13:52.484708Z",
     "shell.execute_reply": "2021-02-18T22:13:52.485122Z"
    },
    "papermill": {
     "duration": 0.073325,
     "end_time": "2021-02-18T22:13:52.485255",
     "exception": false,
     "start_time": "2021-02-18T22:13:52.411930",
     "status": "completed"
    },
    "tags": []
   },
   "outputs": [
    {
     "data": {
      "text/plain": [
       "21397"
      ]
     },
     "execution_count": 7,
     "metadata": {},
     "output_type": "execute_result"
    }
   ],
   "source": [
    "len(train_df)"
   ]
  },
  {
   "cell_type": "code",
   "execution_count": 8,
   "metadata": {
    "execution": {
     "iopub.execute_input": "2021-02-18T22:13:52.619258Z",
     "iopub.status.busy": "2021-02-18T22:13:52.618407Z",
     "iopub.status.idle": "2021-02-18T22:13:52.622307Z",
     "shell.execute_reply": "2021-02-18T22:13:52.621909Z"
    },
    "papermill": {
     "duration": 0.072536,
     "end_time": "2021-02-18T22:13:52.622424",
     "exception": false,
     "start_time": "2021-02-18T22:13:52.549888",
     "status": "completed"
    },
    "tags": []
   },
   "outputs": [
    {
     "data": {
      "text/plain": [
       "Index(['image_id', 'label'], dtype='object')"
      ]
     },
     "execution_count": 8,
     "metadata": {},
     "output_type": "execute_result"
    }
   ],
   "source": [
    "train_df.keys()"
   ]
  },
  {
   "cell_type": "code",
   "execution_count": 9,
   "metadata": {
    "execution": {
     "iopub.execute_input": "2021-02-18T22:13:52.768635Z",
     "iopub.status.busy": "2021-02-18T22:13:52.768069Z",
     "iopub.status.idle": "2021-02-18T22:13:52.776242Z",
     "shell.execute_reply": "2021-02-18T22:13:52.775744Z"
    },
    "papermill": {
     "duration": 0.089226,
     "end_time": "2021-02-18T22:13:52.776363",
     "exception": false,
     "start_time": "2021-02-18T22:13:52.687137",
     "status": "completed"
    },
    "tags": []
   },
   "outputs": [
    {
     "data": {
      "text/html": [
       "<div>\n",
       "<style scoped>\n",
       "    .dataframe tbody tr th:only-of-type {\n",
       "        vertical-align: middle;\n",
       "    }\n",
       "\n",
       "    .dataframe tbody tr th {\n",
       "        vertical-align: top;\n",
       "    }\n",
       "\n",
       "    .dataframe thead th {\n",
       "        text-align: right;\n",
       "    }\n",
       "</style>\n",
       "<table border=\"1\" class=\"dataframe\">\n",
       "  <thead>\n",
       "    <tr style=\"text-align: right;\">\n",
       "      <th></th>\n",
       "      <th>image_id</th>\n",
       "      <th>label</th>\n",
       "    </tr>\n",
       "  </thead>\n",
       "  <tbody>\n",
       "    <tr>\n",
       "      <th>0</th>\n",
       "      <td>1000015157.jpg</td>\n",
       "      <td>0</td>\n",
       "    </tr>\n",
       "    <tr>\n",
       "      <th>1</th>\n",
       "      <td>1000201771.jpg</td>\n",
       "      <td>3</td>\n",
       "    </tr>\n",
       "    <tr>\n",
       "      <th>2</th>\n",
       "      <td>100042118.jpg</td>\n",
       "      <td>1</td>\n",
       "    </tr>\n",
       "    <tr>\n",
       "      <th>3</th>\n",
       "      <td>1000723321.jpg</td>\n",
       "      <td>1</td>\n",
       "    </tr>\n",
       "    <tr>\n",
       "      <th>4</th>\n",
       "      <td>1000812911.jpg</td>\n",
       "      <td>3</td>\n",
       "    </tr>\n",
       "    <tr>\n",
       "      <th>...</th>\n",
       "      <td>...</td>\n",
       "      <td>...</td>\n",
       "    </tr>\n",
       "    <tr>\n",
       "      <th>21392</th>\n",
       "      <td>999068805.jpg</td>\n",
       "      <td>3</td>\n",
       "    </tr>\n",
       "    <tr>\n",
       "      <th>21393</th>\n",
       "      <td>999329392.jpg</td>\n",
       "      <td>3</td>\n",
       "    </tr>\n",
       "    <tr>\n",
       "      <th>21394</th>\n",
       "      <td>999474432.jpg</td>\n",
       "      <td>1</td>\n",
       "    </tr>\n",
       "    <tr>\n",
       "      <th>21395</th>\n",
       "      <td>999616605.jpg</td>\n",
       "      <td>4</td>\n",
       "    </tr>\n",
       "    <tr>\n",
       "      <th>21396</th>\n",
       "      <td>999998473.jpg</td>\n",
       "      <td>4</td>\n",
       "    </tr>\n",
       "  </tbody>\n",
       "</table>\n",
       "<p>21397 rows × 2 columns</p>\n",
       "</div>"
      ],
      "text/plain": [
       "             image_id  label\n",
       "0      1000015157.jpg      0\n",
       "1      1000201771.jpg      3\n",
       "2       100042118.jpg      1\n",
       "3      1000723321.jpg      1\n",
       "4      1000812911.jpg      3\n",
       "...               ...    ...\n",
       "21392   999068805.jpg      3\n",
       "21393   999329392.jpg      3\n",
       "21394   999474432.jpg      1\n",
       "21395   999616605.jpg      4\n",
       "21396   999998473.jpg      4\n",
       "\n",
       "[21397 rows x 2 columns]"
      ]
     },
     "execution_count": 9,
     "metadata": {},
     "output_type": "execute_result"
    }
   ],
   "source": [
    "train_df"
   ]
  },
  {
   "cell_type": "code",
   "execution_count": 10,
   "metadata": {
    "execution": {
     "iopub.execute_input": "2021-02-18T22:13:52.911020Z",
     "iopub.status.busy": "2021-02-18T22:13:52.910275Z",
     "iopub.status.idle": "2021-02-18T22:13:52.912512Z",
     "shell.execute_reply": "2021-02-18T22:13:52.912913Z"
    },
    "papermill": {
     "duration": 0.071013,
     "end_time": "2021-02-18T22:13:52.913042",
     "exception": false,
     "start_time": "2021-02-18T22:13:52.842029",
     "status": "completed"
    },
    "tags": []
   },
   "outputs": [],
   "source": [
    "# y_one_hot = tf.one_hot(train_df['label'], depth=5)"
   ]
  },
  {
   "cell_type": "code",
   "execution_count": 11,
   "metadata": {
    "execution": {
     "iopub.execute_input": "2021-02-18T22:13:53.047396Z",
     "iopub.status.busy": "2021-02-18T22:13:53.046678Z",
     "iopub.status.idle": "2021-02-18T22:13:53.049504Z",
     "shell.execute_reply": "2021-02-18T22:13:53.049074Z"
    },
    "papermill": {
     "duration": 0.071111,
     "end_time": "2021-02-18T22:13:53.049615",
     "exception": false,
     "start_time": "2021-02-18T22:13:52.978504",
     "status": "completed"
    },
    "tags": []
   },
   "outputs": [],
   "source": [
    "# y_one_hot"
   ]
  },
  {
   "cell_type": "code",
   "execution_count": 12,
   "metadata": {
    "execution": {
     "iopub.execute_input": "2021-02-18T22:13:53.184681Z",
     "iopub.status.busy": "2021-02-18T22:13:53.184000Z",
     "iopub.status.idle": "2021-02-18T22:13:53.186799Z",
     "shell.execute_reply": "2021-02-18T22:13:53.186353Z"
    },
    "papermill": {
     "duration": 0.072402,
     "end_time": "2021-02-18T22:13:53.186922",
     "exception": false,
     "start_time": "2021-02-18T22:13:53.114520",
     "status": "completed"
    },
    "tags": []
   },
   "outputs": [],
   "source": [
    "# train_df['label_encoded'] = y_one_hot"
   ]
  },
  {
   "cell_type": "code",
   "execution_count": 13,
   "metadata": {
    "execution": {
     "iopub.execute_input": "2021-02-18T22:13:53.321005Z",
     "iopub.status.busy": "2021-02-18T22:13:53.320385Z",
     "iopub.status.idle": "2021-02-18T22:13:53.323317Z",
     "shell.execute_reply": "2021-02-18T22:13:53.322914Z"
    },
    "papermill": {
     "duration": 0.071409,
     "end_time": "2021-02-18T22:13:53.323435",
     "exception": false,
     "start_time": "2021-02-18T22:13:53.252026",
     "status": "completed"
    },
    "tags": []
   },
   "outputs": [],
   "source": [
    "# label_encoder = LabelEncoder()\n",
    "# integer_encoded = label_encoder.fit_transform(train_df['label'])\n",
    "# onehot_encoder = OneHotEncoder(sparse=False)\n",
    "# integer_encoded = integer_encoded.reshape(len(integer_encoded), 1)\n",
    "# onehot_encoded = onehot_encoder.fit_transform(integer_encoded)"
   ]
  },
  {
   "cell_type": "code",
   "execution_count": 14,
   "metadata": {
    "execution": {
     "iopub.execute_input": "2021-02-18T22:13:53.456457Z",
     "iopub.status.busy": "2021-02-18T22:13:53.455777Z",
     "iopub.status.idle": "2021-02-18T22:13:53.458763Z",
     "shell.execute_reply": "2021-02-18T22:13:53.458198Z"
    },
    "papermill": {
     "duration": 0.070491,
     "end_time": "2021-02-18T22:13:53.458905",
     "exception": false,
     "start_time": "2021-02-18T22:13:53.388414",
     "status": "completed"
    },
    "tags": []
   },
   "outputs": [],
   "source": [
    "# onehot_encoded"
   ]
  },
  {
   "cell_type": "code",
   "execution_count": 15,
   "metadata": {
    "execution": {
     "iopub.execute_input": "2021-02-18T22:13:53.591648Z",
     "iopub.status.busy": "2021-02-18T22:13:53.591012Z",
     "iopub.status.idle": "2021-02-18T22:13:53.593757Z",
     "shell.execute_reply": "2021-02-18T22:13:53.593259Z"
    },
    "papermill": {
     "duration": 0.070142,
     "end_time": "2021-02-18T22:13:53.593895",
     "exception": false,
     "start_time": "2021-02-18T22:13:53.523753",
     "status": "completed"
    },
    "tags": []
   },
   "outputs": [],
   "source": [
    "# onehot_enccoded_list = onehot_encoded.tolist()"
   ]
  },
  {
   "cell_type": "code",
   "execution_count": 16,
   "metadata": {
    "execution": {
     "iopub.execute_input": "2021-02-18T22:13:53.727922Z",
     "iopub.status.busy": "2021-02-18T22:13:53.727292Z",
     "iopub.status.idle": "2021-02-18T22:13:53.730253Z",
     "shell.execute_reply": "2021-02-18T22:13:53.729706Z"
    },
    "papermill": {
     "duration": 0.071436,
     "end_time": "2021-02-18T22:13:53.730361",
     "exception": false,
     "start_time": "2021-02-18T22:13:53.658925",
     "status": "completed"
    },
    "tags": []
   },
   "outputs": [],
   "source": [
    "# onehot_enccoded_list"
   ]
  },
  {
   "cell_type": "code",
   "execution_count": 17,
   "metadata": {
    "execution": {
     "iopub.execute_input": "2021-02-18T22:13:53.864272Z",
     "iopub.status.busy": "2021-02-18T22:13:53.863601Z",
     "iopub.status.idle": "2021-02-18T22:13:53.865948Z",
     "shell.execute_reply": "2021-02-18T22:13:53.866424Z"
    },
    "papermill": {
     "duration": 0.071049,
     "end_time": "2021-02-18T22:13:53.866546",
     "exception": false,
     "start_time": "2021-02-18T22:13:53.795497",
     "status": "completed"
    },
    "tags": []
   },
   "outputs": [],
   "source": [
    "# train_df['label_encoded'] = onehot_enccoded_list"
   ]
  },
  {
   "cell_type": "code",
   "execution_count": 18,
   "metadata": {
    "execution": {
     "iopub.execute_input": "2021-02-18T22:13:54.009894Z",
     "iopub.status.busy": "2021-02-18T22:13:54.009265Z",
     "iopub.status.idle": "2021-02-18T22:13:54.012172Z",
     "shell.execute_reply": "2021-02-18T22:13:54.011746Z"
    },
    "papermill": {
     "duration": 0.080388,
     "end_time": "2021-02-18T22:13:54.012280",
     "exception": false,
     "start_time": "2021-02-18T22:13:53.931892",
     "status": "completed"
    },
    "tags": []
   },
   "outputs": [],
   "source": [
    "train_df['label_typecasted'] = train_df['label'].apply(str)"
   ]
  },
  {
   "cell_type": "code",
   "execution_count": 19,
   "metadata": {
    "execution": {
     "iopub.execute_input": "2021-02-18T22:13:54.153364Z",
     "iopub.status.busy": "2021-02-18T22:13:54.152544Z",
     "iopub.status.idle": "2021-02-18T22:13:54.156375Z",
     "shell.execute_reply": "2021-02-18T22:13:54.155943Z"
    },
    "papermill": {
     "duration": 0.079834,
     "end_time": "2021-02-18T22:13:54.156478",
     "exception": false,
     "start_time": "2021-02-18T22:13:54.076644",
     "status": "completed"
    },
    "tags": []
   },
   "outputs": [
    {
     "data": {
      "text/html": [
       "<div>\n",
       "<style scoped>\n",
       "    .dataframe tbody tr th:only-of-type {\n",
       "        vertical-align: middle;\n",
       "    }\n",
       "\n",
       "    .dataframe tbody tr th {\n",
       "        vertical-align: top;\n",
       "    }\n",
       "\n",
       "    .dataframe thead th {\n",
       "        text-align: right;\n",
       "    }\n",
       "</style>\n",
       "<table border=\"1\" class=\"dataframe\">\n",
       "  <thead>\n",
       "    <tr style=\"text-align: right;\">\n",
       "      <th></th>\n",
       "      <th>image_id</th>\n",
       "      <th>label</th>\n",
       "      <th>label_typecasted</th>\n",
       "    </tr>\n",
       "  </thead>\n",
       "  <tbody>\n",
       "    <tr>\n",
       "      <th>0</th>\n",
       "      <td>1000015157.jpg</td>\n",
       "      <td>0</td>\n",
       "      <td>0</td>\n",
       "    </tr>\n",
       "    <tr>\n",
       "      <th>1</th>\n",
       "      <td>1000201771.jpg</td>\n",
       "      <td>3</td>\n",
       "      <td>3</td>\n",
       "    </tr>\n",
       "    <tr>\n",
       "      <th>2</th>\n",
       "      <td>100042118.jpg</td>\n",
       "      <td>1</td>\n",
       "      <td>1</td>\n",
       "    </tr>\n",
       "    <tr>\n",
       "      <th>3</th>\n",
       "      <td>1000723321.jpg</td>\n",
       "      <td>1</td>\n",
       "      <td>1</td>\n",
       "    </tr>\n",
       "    <tr>\n",
       "      <th>4</th>\n",
       "      <td>1000812911.jpg</td>\n",
       "      <td>3</td>\n",
       "      <td>3</td>\n",
       "    </tr>\n",
       "    <tr>\n",
       "      <th>...</th>\n",
       "      <td>...</td>\n",
       "      <td>...</td>\n",
       "      <td>...</td>\n",
       "    </tr>\n",
       "    <tr>\n",
       "      <th>21392</th>\n",
       "      <td>999068805.jpg</td>\n",
       "      <td>3</td>\n",
       "      <td>3</td>\n",
       "    </tr>\n",
       "    <tr>\n",
       "      <th>21393</th>\n",
       "      <td>999329392.jpg</td>\n",
       "      <td>3</td>\n",
       "      <td>3</td>\n",
       "    </tr>\n",
       "    <tr>\n",
       "      <th>21394</th>\n",
       "      <td>999474432.jpg</td>\n",
       "      <td>1</td>\n",
       "      <td>1</td>\n",
       "    </tr>\n",
       "    <tr>\n",
       "      <th>21395</th>\n",
       "      <td>999616605.jpg</td>\n",
       "      <td>4</td>\n",
       "      <td>4</td>\n",
       "    </tr>\n",
       "    <tr>\n",
       "      <th>21396</th>\n",
       "      <td>999998473.jpg</td>\n",
       "      <td>4</td>\n",
       "      <td>4</td>\n",
       "    </tr>\n",
       "  </tbody>\n",
       "</table>\n",
       "<p>21397 rows × 3 columns</p>\n",
       "</div>"
      ],
      "text/plain": [
       "             image_id  label label_typecasted\n",
       "0      1000015157.jpg      0                0\n",
       "1      1000201771.jpg      3                3\n",
       "2       100042118.jpg      1                1\n",
       "3      1000723321.jpg      1                1\n",
       "4      1000812911.jpg      3                3\n",
       "...               ...    ...              ...\n",
       "21392   999068805.jpg      3                3\n",
       "21393   999329392.jpg      3                3\n",
       "21394   999474432.jpg      1                1\n",
       "21395   999616605.jpg      4                4\n",
       "21396   999998473.jpg      4                4\n",
       "\n",
       "[21397 rows x 3 columns]"
      ]
     },
     "execution_count": 19,
     "metadata": {},
     "output_type": "execute_result"
    }
   ],
   "source": [
    "train_df"
   ]
  },
  {
   "cell_type": "code",
   "execution_count": 20,
   "metadata": {
    "execution": {
     "iopub.execute_input": "2021-02-18T22:13:54.291973Z",
     "iopub.status.busy": "2021-02-18T22:13:54.291270Z",
     "iopub.status.idle": "2021-02-18T22:13:54.319151Z",
     "shell.execute_reply": "2021-02-18T22:13:54.318656Z"
    },
    "papermill": {
     "duration": 0.09727,
     "end_time": "2021-02-18T22:13:54.319267",
     "exception": false,
     "start_time": "2021-02-18T22:13:54.221997",
     "status": "completed"
    },
    "tags": []
   },
   "outputs": [
    {
     "data": {
      "text/html": [
       "<div>\n",
       "<style scoped>\n",
       "    .dataframe tbody tr th:only-of-type {\n",
       "        vertical-align: middle;\n",
       "    }\n",
       "\n",
       "    .dataframe tbody tr th {\n",
       "        vertical-align: top;\n",
       "    }\n",
       "\n",
       "    .dataframe thead th {\n",
       "        text-align: right;\n",
       "    }\n",
       "</style>\n",
       "<table border=\"1\" class=\"dataframe\">\n",
       "  <thead>\n",
       "    <tr style=\"text-align: right;\">\n",
       "      <th></th>\n",
       "      <th>image_id</th>\n",
       "      <th>label</th>\n",
       "      <th>label_typecasted</th>\n",
       "    </tr>\n",
       "  </thead>\n",
       "  <tbody>\n",
       "    <tr>\n",
       "      <th>0</th>\n",
       "      <td>1000015157.jpg</td>\n",
       "      <td>0</td>\n",
       "      <td>0</td>\n",
       "    </tr>\n",
       "    <tr>\n",
       "      <th>7</th>\n",
       "      <td>1001320321.jpg</td>\n",
       "      <td>0</td>\n",
       "      <td>0</td>\n",
       "    </tr>\n",
       "    <tr>\n",
       "      <th>18</th>\n",
       "      <td>1003888281.jpg</td>\n",
       "      <td>0</td>\n",
       "      <td>0</td>\n",
       "    </tr>\n",
       "    <tr>\n",
       "      <th>73</th>\n",
       "      <td>1012426959.jpg</td>\n",
       "      <td>0</td>\n",
       "      <td>0</td>\n",
       "    </tr>\n",
       "    <tr>\n",
       "      <th>109</th>\n",
       "      <td>1018973237.jpg</td>\n",
       "      <td>0</td>\n",
       "      <td>0</td>\n",
       "    </tr>\n",
       "    <tr>\n",
       "      <th>...</th>\n",
       "      <td>...</td>\n",
       "      <td>...</td>\n",
       "      <td>...</td>\n",
       "    </tr>\n",
       "    <tr>\n",
       "      <th>21336</th>\n",
       "      <td>986888785.jpg</td>\n",
       "      <td>0</td>\n",
       "      <td>0</td>\n",
       "    </tr>\n",
       "    <tr>\n",
       "      <th>21337</th>\n",
       "      <td>986965803.jpg</td>\n",
       "      <td>0</td>\n",
       "      <td>0</td>\n",
       "    </tr>\n",
       "    <tr>\n",
       "      <th>21338</th>\n",
       "      <td>986999751.jpg</td>\n",
       "      <td>0</td>\n",
       "      <td>0</td>\n",
       "    </tr>\n",
       "    <tr>\n",
       "      <th>21339</th>\n",
       "      <td>987080644.jpg</td>\n",
       "      <td>0</td>\n",
       "      <td>0</td>\n",
       "    </tr>\n",
       "    <tr>\n",
       "      <th>21343</th>\n",
       "      <td>988174802.jpg</td>\n",
       "      <td>0</td>\n",
       "      <td>0</td>\n",
       "    </tr>\n",
       "  </tbody>\n",
       "</table>\n",
       "<p>1087 rows × 3 columns</p>\n",
       "</div>"
      ],
      "text/plain": [
       "             image_id  label label_typecasted\n",
       "0      1000015157.jpg      0                0\n",
       "7      1001320321.jpg      0                0\n",
       "18     1003888281.jpg      0                0\n",
       "73     1012426959.jpg      0                0\n",
       "109    1018973237.jpg      0                0\n",
       "...               ...    ...              ...\n",
       "21336   986888785.jpg      0                0\n",
       "21337   986965803.jpg      0                0\n",
       "21338   986999751.jpg      0                0\n",
       "21339   987080644.jpg      0                0\n",
       "21343   988174802.jpg      0                0\n",
       "\n",
       "[1087 rows x 3 columns]"
      ]
     },
     "execution_count": 20,
     "metadata": {},
     "output_type": "execute_result"
    }
   ],
   "source": [
    "train_df[train_df['label'] == 0]"
   ]
  },
  {
   "cell_type": "code",
   "execution_count": 21,
   "metadata": {
    "execution": {
     "iopub.execute_input": "2021-02-18T22:13:54.456598Z",
     "iopub.status.busy": "2021-02-18T22:13:54.455832Z",
     "iopub.status.idle": "2021-02-18T22:13:54.459727Z",
     "shell.execute_reply": "2021-02-18T22:13:54.459334Z"
    },
    "papermill": {
     "duration": 0.074373,
     "end_time": "2021-02-18T22:13:54.459868",
     "exception": false,
     "start_time": "2021-02-18T22:13:54.385495",
     "status": "completed"
    },
    "tags": []
   },
   "outputs": [
    {
     "data": {
      "text/plain": [
       "'/kaggle/input/cassava-leaf-disease-classification/train_images'"
      ]
     },
     "execution_count": 21,
     "metadata": {},
     "output_type": "execute_result"
    }
   ],
   "source": [
    "images_directory = os.path.join(base_dir, 'train_images')\n",
    "images_directory"
   ]
  },
  {
   "cell_type": "code",
   "execution_count": 22,
   "metadata": {
    "execution": {
     "iopub.execute_input": "2021-02-18T22:13:54.595649Z",
     "iopub.status.busy": "2021-02-18T22:13:54.595021Z",
     "iopub.status.idle": "2021-02-18T22:13:54.598102Z",
     "shell.execute_reply": "2021-02-18T22:13:54.597550Z"
    },
    "papermill": {
     "duration": 0.071909,
     "end_time": "2021-02-18T22:13:54.598224",
     "exception": false,
     "start_time": "2021-02-18T22:13:54.526315",
     "status": "completed"
    },
    "tags": []
   },
   "outputs": [],
   "source": [
    "# #TPU\n",
    "# from kaggle_datasets import KaggleDatasets\n",
    "# GCS_PATH = KaggleDatasets().get_gcs_path()\n",
    "# GCS_PATH\n",
    "# images_directory = os.path.join(GCS_PATH, 'train_images')\n",
    "# train_df['image_id'] = images_directory + '/' + train_df['image_id'].astype(str)"
   ]
  },
  {
   "cell_type": "code",
   "execution_count": 23,
   "metadata": {
    "execution": {
     "iopub.execute_input": "2021-02-18T22:13:54.733702Z",
     "iopub.status.busy": "2021-02-18T22:13:54.733051Z",
     "iopub.status.idle": "2021-02-18T22:13:54.735854Z",
     "shell.execute_reply": "2021-02-18T22:13:54.735396Z"
    },
    "papermill": {
     "duration": 0.071826,
     "end_time": "2021-02-18T22:13:54.735960",
     "exception": false,
     "start_time": "2021-02-18T22:13:54.664134",
     "status": "completed"
    },
    "tags": []
   },
   "outputs": [],
   "source": [
    "# train_df.loc[0]['image_id']"
   ]
  },
  {
   "cell_type": "code",
   "execution_count": 24,
   "metadata": {
    "execution": {
     "iopub.execute_input": "2021-02-18T22:13:54.872737Z",
     "iopub.status.busy": "2021-02-18T22:13:54.872087Z",
     "iopub.status.idle": "2021-02-18T22:13:54.874974Z",
     "shell.execute_reply": "2021-02-18T22:13:54.874551Z"
    },
    "papermill": {
     "duration": 0.072378,
     "end_time": "2021-02-18T22:13:54.875083",
     "exception": false,
     "start_time": "2021-02-18T22:13:54.802705",
     "status": "completed"
    },
    "tags": []
   },
   "outputs": [],
   "source": [
    "# image_sample = PIL.Image.open('/kaggle/input/cassava-leaf-disease-classification/train_images/1782983052.jpg')"
   ]
  },
  {
   "cell_type": "code",
   "execution_count": 25,
   "metadata": {
    "execution": {
     "iopub.execute_input": "2021-02-18T22:13:55.011446Z",
     "iopub.status.busy": "2021-02-18T22:13:55.010834Z",
     "iopub.status.idle": "2021-02-18T22:13:55.013215Z",
     "shell.execute_reply": "2021-02-18T22:13:55.013694Z"
    },
    "papermill": {
     "duration": 0.072122,
     "end_time": "2021-02-18T22:13:55.013841",
     "exception": false,
     "start_time": "2021-02-18T22:13:54.941719",
     "status": "completed"
    },
    "tags": []
   },
   "outputs": [],
   "source": [
    "# image_sample"
   ]
  },
  {
   "cell_type": "code",
   "execution_count": 26,
   "metadata": {
    "execution": {
     "iopub.execute_input": "2021-02-18T22:13:55.150018Z",
     "iopub.status.busy": "2021-02-18T22:13:55.149234Z",
     "iopub.status.idle": "2021-02-18T22:13:55.151792Z",
     "shell.execute_reply": "2021-02-18T22:13:55.151395Z"
    },
    "papermill": {
     "duration": 0.071922,
     "end_time": "2021-02-18T22:13:55.151923",
     "exception": false,
     "start_time": "2021-02-18T22:13:55.080001",
     "status": "completed"
    },
    "tags": []
   },
   "outputs": [],
   "source": [
    "# image_sample.size"
   ]
  },
  {
   "cell_type": "code",
   "execution_count": 27,
   "metadata": {
    "execution": {
     "iopub.execute_input": "2021-02-18T22:13:55.289194Z",
     "iopub.status.busy": "2021-02-18T22:13:55.288482Z",
     "iopub.status.idle": "2021-02-18T22:13:55.291206Z",
     "shell.execute_reply": "2021-02-18T22:13:55.290750Z"
    },
    "papermill": {
     "duration": 0.072905,
     "end_time": "2021-02-18T22:13:55.291316",
     "exception": false,
     "start_time": "2021-02-18T22:13:55.218411",
     "status": "completed"
    },
    "tags": []
   },
   "outputs": [],
   "source": [
    "# # TPU\n",
    "# import re\n",
    "# import sys\n",
    "# from google.cloud import storage\n",
    "\n",
    "# BUCKET = GCS_PATH\n",
    "\n",
    "# # Create a Cloud Storage client.\n",
    "# gcs = storage.Client()\n",
    "\n",
    "# # Get the bucket that the file will be uploaded to.\n",
    "# bucket = gcs.get_bucket(BUCKET)\n",
    "\n",
    "# def my_list_bucket(bucket_name, limit=sys.maxsize):\n",
    "#   a_bucket = gcs.lookup_bucket(bucket_name)\n",
    "#   bucket_iterator = a_bucket.list_blobs()\n",
    "#   for resource in bucket_iterator:\n",
    "#     print(resource.name)\n",
    "#     limit = limit - 1\n",
    "#     if limit <= 0:\n",
    "#       break\n",
    "\n",
    "# my_list_bucket(BUCKET, limit=100)"
   ]
  },
  {
   "cell_type": "code",
   "execution_count": 28,
   "metadata": {
    "execution": {
     "iopub.execute_input": "2021-02-18T22:13:55.427291Z",
     "iopub.status.busy": "2021-02-18T22:13:55.426591Z",
     "iopub.status.idle": "2021-02-18T22:13:55.429394Z",
     "shell.execute_reply": "2021-02-18T22:13:55.428993Z"
    },
    "papermill": {
     "duration": 0.071967,
     "end_time": "2021-02-18T22:13:55.429502",
     "exception": false,
     "start_time": "2021-02-18T22:13:55.357535",
     "status": "completed"
    },
    "tags": []
   },
   "outputs": [],
   "source": [
    "# image_sample_3_path = os.path.join(images_directory, '1000812911.jpg')"
   ]
  },
  {
   "cell_type": "code",
   "execution_count": 29,
   "metadata": {
    "execution": {
     "iopub.execute_input": "2021-02-18T22:13:55.564987Z",
     "iopub.status.busy": "2021-02-18T22:13:55.564352Z",
     "iopub.status.idle": "2021-02-18T22:13:55.567302Z",
     "shell.execute_reply": "2021-02-18T22:13:55.566908Z"
    },
    "papermill": {
     "duration": 0.071986,
     "end_time": "2021-02-18T22:13:55.567407",
     "exception": false,
     "start_time": "2021-02-18T22:13:55.495421",
     "status": "completed"
    },
    "tags": []
   },
   "outputs": [],
   "source": [
    "# image_sample_3 = PIL.Image.open('/kaggle/input/cassava-leaf-disease-classification/train_images/1782983052.jpg')"
   ]
  },
  {
   "cell_type": "code",
   "execution_count": 30,
   "metadata": {
    "execution": {
     "iopub.execute_input": "2021-02-18T22:13:55.703237Z",
     "iopub.status.busy": "2021-02-18T22:13:55.702563Z",
     "iopub.status.idle": "2021-02-18T22:13:55.705022Z",
     "shell.execute_reply": "2021-02-18T22:13:55.705506Z"
    },
    "papermill": {
     "duration": 0.072302,
     "end_time": "2021-02-18T22:13:55.705633",
     "exception": false,
     "start_time": "2021-02-18T22:13:55.633331",
     "status": "completed"
    },
    "tags": []
   },
   "outputs": [],
   "source": [
    "# image_sample_3"
   ]
  },
  {
   "cell_type": "code",
   "execution_count": 31,
   "metadata": {
    "execution": {
     "iopub.execute_input": "2021-02-18T22:13:55.842011Z",
     "iopub.status.busy": "2021-02-18T22:13:55.841406Z",
     "iopub.status.idle": "2021-02-18T22:13:55.844299Z",
     "shell.execute_reply": "2021-02-18T22:13:55.843893Z"
    },
    "papermill": {
     "duration": 0.072201,
     "end_time": "2021-02-18T22:13:55.844415",
     "exception": false,
     "start_time": "2021-02-18T22:13:55.772214",
     "status": "completed"
    },
    "tags": []
   },
   "outputs": [],
   "source": [
    "# image_sample_4_path = os.path.join(images_directory, '999998473.jpg')"
   ]
  },
  {
   "cell_type": "code",
   "execution_count": 32,
   "metadata": {
    "execution": {
     "iopub.execute_input": "2021-02-18T22:13:55.981169Z",
     "iopub.status.busy": "2021-02-18T22:13:55.980462Z",
     "iopub.status.idle": "2021-02-18T22:13:55.983097Z",
     "shell.execute_reply": "2021-02-18T22:13:55.982650Z"
    },
    "papermill": {
     "duration": 0.071989,
     "end_time": "2021-02-18T22:13:55.983209",
     "exception": false,
     "start_time": "2021-02-18T22:13:55.911220",
     "status": "completed"
    },
    "tags": []
   },
   "outputs": [],
   "source": [
    "# image_sample_4 = PIL.Image.open(image_sample_4_path)"
   ]
  },
  {
   "cell_type": "code",
   "execution_count": 33,
   "metadata": {
    "execution": {
     "iopub.execute_input": "2021-02-18T22:13:56.119523Z",
     "iopub.status.busy": "2021-02-18T22:13:56.118689Z",
     "iopub.status.idle": "2021-02-18T22:13:56.121399Z",
     "shell.execute_reply": "2021-02-18T22:13:56.120979Z"
    },
    "papermill": {
     "duration": 0.071723,
     "end_time": "2021-02-18T22:13:56.121498",
     "exception": false,
     "start_time": "2021-02-18T22:13:56.049775",
     "status": "completed"
    },
    "tags": []
   },
   "outputs": [],
   "source": [
    "# image_sample_4"
   ]
  },
  {
   "cell_type": "code",
   "execution_count": 34,
   "metadata": {
    "execution": {
     "iopub.execute_input": "2021-02-18T22:13:56.258337Z",
     "iopub.status.busy": "2021-02-18T22:13:56.257532Z",
     "iopub.status.idle": "2021-02-18T22:13:56.260633Z",
     "shell.execute_reply": "2021-02-18T22:13:56.260141Z"
    },
    "papermill": {
     "duration": 0.072994,
     "end_time": "2021-02-18T22:13:56.260737",
     "exception": false,
     "start_time": "2021-02-18T22:13:56.187743",
     "status": "completed"
    },
    "tags": []
   },
   "outputs": [],
   "source": [
    "# image_sample_1_directory = os.path.join(images_directory, '999474432.jpg')"
   ]
  },
  {
   "cell_type": "code",
   "execution_count": 35,
   "metadata": {
    "execution": {
     "iopub.execute_input": "2021-02-18T22:13:56.407644Z",
     "iopub.status.busy": "2021-02-18T22:13:56.406845Z",
     "iopub.status.idle": "2021-02-18T22:13:56.410083Z",
     "shell.execute_reply": "2021-02-18T22:13:56.409452Z"
    },
    "papermill": {
     "duration": 0.074217,
     "end_time": "2021-02-18T22:13:56.410255",
     "exception": false,
     "start_time": "2021-02-18T22:13:56.336038",
     "status": "completed"
    },
    "tags": []
   },
   "outputs": [],
   "source": [
    "# image_sample_1 = PIL.Image.open(image_sample_1_directory)"
   ]
  },
  {
   "cell_type": "code",
   "execution_count": 36,
   "metadata": {
    "execution": {
     "iopub.execute_input": "2021-02-18T22:13:56.550559Z",
     "iopub.status.busy": "2021-02-18T22:13:56.549913Z",
     "iopub.status.idle": "2021-02-18T22:13:56.552682Z",
     "shell.execute_reply": "2021-02-18T22:13:56.552175Z"
    },
    "papermill": {
     "duration": 0.072002,
     "end_time": "2021-02-18T22:13:56.552785",
     "exception": false,
     "start_time": "2021-02-18T22:13:56.480783",
     "status": "completed"
    },
    "tags": []
   },
   "outputs": [],
   "source": [
    "# image_sample_1"
   ]
  },
  {
   "cell_type": "code",
   "execution_count": 37,
   "metadata": {
    "execution": {
     "iopub.execute_input": "2021-02-18T22:13:56.688778Z",
     "iopub.status.busy": "2021-02-18T22:13:56.688069Z",
     "iopub.status.idle": "2021-02-18T22:13:56.690888Z",
     "shell.execute_reply": "2021-02-18T22:13:56.690478Z"
    },
    "papermill": {
     "duration": 0.071502,
     "end_time": "2021-02-18T22:13:56.690995",
     "exception": false,
     "start_time": "2021-02-18T22:13:56.619493",
     "status": "completed"
    },
    "tags": []
   },
   "outputs": [],
   "source": [
    "# image_sample_2_directory = os.path.join(images_directory, '996947690.jpg')"
   ]
  },
  {
   "cell_type": "code",
   "execution_count": 38,
   "metadata": {
    "execution": {
     "iopub.execute_input": "2021-02-18T22:13:56.826753Z",
     "iopub.status.busy": "2021-02-18T22:13:56.826120Z",
     "iopub.status.idle": "2021-02-18T22:13:56.828583Z",
     "shell.execute_reply": "2021-02-18T22:13:56.828960Z"
    },
    "papermill": {
     "duration": 0.072205,
     "end_time": "2021-02-18T22:13:56.829083",
     "exception": false,
     "start_time": "2021-02-18T22:13:56.756878",
     "status": "completed"
    },
    "tags": []
   },
   "outputs": [],
   "source": [
    "# image_sample_2 = PIL.Image.open(image_sample_2_directory)"
   ]
  },
  {
   "cell_type": "code",
   "execution_count": 39,
   "metadata": {
    "execution": {
     "iopub.execute_input": "2021-02-18T22:13:56.964736Z",
     "iopub.status.busy": "2021-02-18T22:13:56.964123Z",
     "iopub.status.idle": "2021-02-18T22:13:56.967069Z",
     "shell.execute_reply": "2021-02-18T22:13:56.966630Z"
    },
    "papermill": {
     "duration": 0.071673,
     "end_time": "2021-02-18T22:13:56.967176",
     "exception": false,
     "start_time": "2021-02-18T22:13:56.895503",
     "status": "completed"
    },
    "tags": []
   },
   "outputs": [],
   "source": [
    "# image_sample_2"
   ]
  },
  {
   "cell_type": "code",
   "execution_count": 40,
   "metadata": {
    "execution": {
     "iopub.execute_input": "2021-02-18T22:13:57.102174Z",
     "iopub.status.busy": "2021-02-18T22:13:57.101512Z",
     "iopub.status.idle": "2021-02-18T22:13:57.104299Z",
     "shell.execute_reply": "2021-02-18T22:13:57.103783Z"
    },
    "papermill": {
     "duration": 0.071069,
     "end_time": "2021-02-18T22:13:57.104412",
     "exception": false,
     "start_time": "2021-02-18T22:13:57.033343",
     "status": "completed"
    },
    "tags": []
   },
   "outputs": [],
   "source": [
    "# images_sample_0 = PIL.Image.open(os.path.join(images_directory, '1012426959.jpg'))"
   ]
  },
  {
   "cell_type": "code",
   "execution_count": 41,
   "metadata": {
    "execution": {
     "iopub.execute_input": "2021-02-18T22:13:57.238400Z",
     "iopub.status.busy": "2021-02-18T22:13:57.237719Z",
     "iopub.status.idle": "2021-02-18T22:13:57.240601Z",
     "shell.execute_reply": "2021-02-18T22:13:57.240202Z"
    },
    "papermill": {
     "duration": 0.070926,
     "end_time": "2021-02-18T22:13:57.240706",
     "exception": false,
     "start_time": "2021-02-18T22:13:57.169780",
     "status": "completed"
    },
    "tags": []
   },
   "outputs": [],
   "source": [
    "# images_sample_0"
   ]
  },
  {
   "cell_type": "code",
   "execution_count": 42,
   "metadata": {
    "execution": {
     "iopub.execute_input": "2021-02-18T22:13:57.376078Z",
     "iopub.status.busy": "2021-02-18T22:13:57.375457Z",
     "iopub.status.idle": "2021-02-18T22:13:57.378364Z",
     "shell.execute_reply": "2021-02-18T22:13:57.377879Z"
    },
    "papermill": {
     "duration": 0.071029,
     "end_time": "2021-02-18T22:13:57.378465",
     "exception": false,
     "start_time": "2021-02-18T22:13:57.307436",
     "status": "completed"
    },
    "tags": []
   },
   "outputs": [],
   "source": [
    "# image_sample.size"
   ]
  },
  {
   "cell_type": "code",
   "execution_count": 43,
   "metadata": {
    "execution": {
     "iopub.execute_input": "2021-02-18T22:13:57.512666Z",
     "iopub.status.busy": "2021-02-18T22:13:57.512176Z",
     "iopub.status.idle": "2021-02-18T22:13:57.517536Z",
     "shell.execute_reply": "2021-02-18T22:13:57.517129Z"
    },
    "papermill": {
     "duration": 0.073602,
     "end_time": "2021-02-18T22:13:57.517642",
     "exception": false,
     "start_time": "2021-02-18T22:13:57.444040",
     "status": "completed"
    },
    "tags": []
   },
   "outputs": [
    {
     "data": {
      "text/plain": [
       "21397"
      ]
     },
     "execution_count": 43,
     "metadata": {},
     "output_type": "execute_result"
    }
   ],
   "source": [
    "len(train_df)"
   ]
  },
  {
   "cell_type": "code",
   "execution_count": 44,
   "metadata": {
    "execution": {
     "iopub.execute_input": "2021-02-18T22:13:57.655845Z",
     "iopub.status.busy": "2021-02-18T22:13:57.655125Z",
     "iopub.status.idle": "2021-02-18T22:13:57.657757Z",
     "shell.execute_reply": "2021-02-18T22:13:57.657370Z"
    },
    "papermill": {
     "duration": 0.073108,
     "end_time": "2021-02-18T22:13:57.657891",
     "exception": false,
     "start_time": "2021-02-18T22:13:57.584783",
     "status": "completed"
    },
    "tags": []
   },
   "outputs": [],
   "source": [
    "def get_custom_function(image):\n",
    "#     input_image = tf.keras.layers.experimental.preprocessing.Resizing(600, 600)(image)\n",
    "#     input_image = tf.keras.layers.experimental.preprocessing.CenterCrop(300, 300)(input_image)\n",
    "#     return input_image\n",
    "    input_image = tf.image.resize(image, [600,600])\n",
    "    input_image = tf.image.stateless_random_hue(input_image, 0.3, (1,2))\n",
    "    input_image = tf.image.stateless_random_contrast(input_image, 0.7, 1.0, (1,2))\n",
    "    input_image = tf.image.stateless_random_saturation(input_image, 0.5, 1.0, (1, 2))\n",
    "    return tf.image.central_crop(input_image, central_fraction=0.5)"
   ]
  },
  {
   "cell_type": "code",
   "execution_count": 45,
   "metadata": {
    "execution": {
     "iopub.execute_input": "2021-02-18T22:13:57.793731Z",
     "iopub.status.busy": "2021-02-18T22:13:57.793119Z",
     "iopub.status.idle": "2021-02-18T22:13:57.795990Z",
     "shell.execute_reply": "2021-02-18T22:13:57.795583Z"
    },
    "papermill": {
     "duration": 0.072414,
     "end_time": "2021-02-18T22:13:57.796097",
     "exception": false,
     "start_time": "2021-02-18T22:13:57.723683",
     "status": "completed"
    },
    "tags": []
   },
   "outputs": [],
   "source": [
    "datagen = tf.keras.preprocessing.image.ImageDataGenerator(\n",
    "    validation_split=0.01,\n",
    "#     preprocessing_function=tf.keras.layers.experimental.preprocessing.CenterCrop(200, 200),\n",
    "    preprocessing_function = get_custom_function,\n",
    "#     zca_whitening=True,\n",
    "    horizontal_flip = 0.5,\n",
    "    vertical_flip=0.2,\n",
    "    rotation_range=30,\n",
    "    brightness_range=[0.55,1.0]\n",
    ")"
   ]
  },
  {
   "cell_type": "code",
   "execution_count": 46,
   "metadata": {
    "execution": {
     "iopub.execute_input": "2021-02-18T22:13:57.933913Z",
     "iopub.status.busy": "2021-02-18T22:13:57.933112Z",
     "iopub.status.idle": "2021-02-18T22:14:24.436542Z",
     "shell.execute_reply": "2021-02-18T22:14:24.437506Z"
    },
    "papermill": {
     "duration": 26.575355,
     "end_time": "2021-02-18T22:14:24.437719",
     "exception": false,
     "start_time": "2021-02-18T22:13:57.862364",
     "status": "completed"
    },
    "tags": []
   },
   "outputs": [
    {
     "name": "stdout",
     "output_type": "stream",
     "text": [
      "Found 21184 validated image filenames belonging to 5 classes.\n"
     ]
    }
   ],
   "source": [
    "train_generator=datagen.flow_from_dataframe(\n",
    "dataframe=train_df,\n",
    "directory=images_directory,\n",
    "x_col=\"image_id\",\n",
    "y_col=\"label_typecasted\",\n",
    "subset=\"training\",\n",
    "batch_size=32,\n",
    "seed=42,\n",
    "shuffle=True,\n",
    "class_mode=\"categorical\",\n",
    "# horizontal_flip = 0.5,\n",
    "# vertical_flip=0.2,\n",
    "# # rotation_range=30,\n",
    "# # brightness_range=[0.4,1.0],\n",
    "# rotation_range=10,\n",
    "# brightness_range=[0.75,1.0],\n",
    "target_size=(300,300))"
   ]
  },
  {
   "cell_type": "code",
   "execution_count": 47,
   "metadata": {
    "execution": {
     "iopub.execute_input": "2021-02-18T22:14:24.689909Z",
     "iopub.status.busy": "2021-02-18T22:14:24.689138Z",
     "iopub.status.idle": "2021-02-18T22:14:24.692214Z",
     "shell.execute_reply": "2021-02-18T22:14:24.690528Z"
    },
    "papermill": {
     "duration": 0.138471,
     "end_time": "2021-02-18T22:14:24.692370",
     "exception": false,
     "start_time": "2021-02-18T22:14:24.553899",
     "status": "completed"
    },
    "tags": []
   },
   "outputs": [
    {
     "data": {
      "text/plain": [
       "662"
      ]
     },
     "execution_count": 47,
     "metadata": {},
     "output_type": "execute_result"
    }
   ],
   "source": [
    "len(train_generator)"
   ]
  },
  {
   "cell_type": "code",
   "execution_count": 48,
   "metadata": {
    "execution": {
     "iopub.execute_input": "2021-02-18T22:14:24.884999Z",
     "iopub.status.busy": "2021-02-18T22:14:24.884207Z",
     "iopub.status.idle": "2021-02-18T22:14:24.888071Z",
     "shell.execute_reply": "2021-02-18T22:14:24.887623Z"
    },
    "papermill": {
     "duration": 0.095255,
     "end_time": "2021-02-18T22:14:24.888186",
     "exception": false,
     "start_time": "2021-02-18T22:14:24.792931",
     "status": "completed"
    },
    "tags": []
   },
   "outputs": [
    {
     "data": {
      "text/plain": [
       "21184"
      ]
     },
     "execution_count": 48,
     "metadata": {},
     "output_type": "execute_result"
    }
   ],
   "source": [
    "32*662"
   ]
  },
  {
   "cell_type": "code",
   "execution_count": 49,
   "metadata": {
    "execution": {
     "iopub.execute_input": "2021-02-18T22:14:25.097055Z",
     "iopub.status.busy": "2021-02-18T22:14:25.096150Z",
     "iopub.status.idle": "2021-02-18T22:14:25.099376Z",
     "shell.execute_reply": "2021-02-18T22:14:25.097698Z"
    },
    "papermill": {
     "duration": 0.111261,
     "end_time": "2021-02-18T22:14:25.099515",
     "exception": false,
     "start_time": "2021-02-18T22:14:24.988254",
     "status": "completed"
    },
    "tags": []
   },
   "outputs": [
    {
     "data": {
      "text/plain": [
       "224"
      ]
     },
     "execution_count": 49,
     "metadata": {},
     "output_type": "execute_result"
    }
   ],
   "source": [
    "7*32"
   ]
  },
  {
   "cell_type": "code",
   "execution_count": 50,
   "metadata": {
    "execution": {
     "iopub.execute_input": "2021-02-18T22:14:25.290866Z",
     "iopub.status.busy": "2021-02-18T22:14:25.290176Z",
     "iopub.status.idle": "2021-02-18T22:14:25.293160Z",
     "shell.execute_reply": "2021-02-18T22:14:25.293594Z"
    },
    "papermill": {
     "duration": 0.079625,
     "end_time": "2021-02-18T22:14:25.293718",
     "exception": false,
     "start_time": "2021-02-18T22:14:25.214093",
     "status": "completed"
    },
    "tags": []
   },
   "outputs": [
    {
     "data": {
      "text/plain": [
       "21397"
      ]
     },
     "execution_count": 50,
     "metadata": {},
     "output_type": "execute_result"
    }
   ],
   "source": [
    "21184 + 213"
   ]
  },
  {
   "cell_type": "code",
   "execution_count": 51,
   "metadata": {
    "execution": {
     "iopub.execute_input": "2021-02-18T22:14:25.436528Z",
     "iopub.status.busy": "2021-02-18T22:14:25.435373Z",
     "iopub.status.idle": "2021-02-18T22:14:25.438374Z",
     "shell.execute_reply": "2021-02-18T22:14:25.437956Z"
    },
    "papermill": {
     "duration": 0.076961,
     "end_time": "2021-02-18T22:14:25.438477",
     "exception": false,
     "start_time": "2021-02-18T22:14:25.361516",
     "status": "completed"
    },
    "tags": []
   },
   "outputs": [],
   "source": [
    "# def identity_block(X, f, filters, stage, block):\n",
    "#     \"\"\"\n",
    "#     Implementation of the identity block as defined in Figure 4\n",
    "    \n",
    "#     Arguments:\n",
    "#     X -- input tensor of shape (m, n_H_prev, n_W_prev, n_C_prev)\n",
    "#     f -- integer, specifying the shape of the middle CONV's window for the main path\n",
    "#     filters -- python list of integers, defining the number of filters in the CONV layers of the main path\n",
    "#     stage -- integer, used to name the layers, depending on their position in the network\n",
    "#     block -- string/character, used to name the layers, depending on their position in the network\n",
    "    \n",
    "#     Returns:\n",
    "#     X -- output of the identity block, tensor of shape (n_H, n_W, n_C)\n",
    "#     \"\"\"\n",
    "    \n",
    "#     # defining name basis\n",
    "#     conv_name_base = 'res' + str(stage) + block + '_branch'\n",
    "#     bn_name_base = 'bn' + str(stage) + block + '_branch'\n",
    "    \n",
    "#     # Retrieve Filters\n",
    "#     F1, F2, F3 = filters\n",
    "    \n",
    "#     # Save the input value. You'll need this later to add back to the main path. \n",
    "#     X_shortcut = X\n",
    "    \n",
    "#     # First component of main path\n",
    "#     X = Conv2D(filters = F1, kernel_size = (1, 1), strides = (1,1), padding = 'valid', name = conv_name_base + '2a', kernel_initializer = glorot_uniform(seed=0))(X)\n",
    "#     X = BatchNormalization(axis = 3, name = bn_name_base + '2a')(X)\n",
    "#     X = Activation('relu')(X)\n",
    "        \n",
    "#     # Second component of main path (≈3 lines)\n",
    "#     X = Conv2D(filters = F2, kernel_size = (f, f), strides = (1,1), padding = 'same', name = conv_name_base + '2b', kernel_initializer = glorot_uniform(seed=0))(X)\n",
    "#     X = BatchNormalization(axis = 3, name = bn_name_base + '2b')(X)\n",
    "#     X = Activation('relu')(X)\n",
    "\n",
    "#     # Third component of main path (≈2 lines)\n",
    "#     X = Conv2D(filters = F3, kernel_size = (1, 1), strides = (1,1), padding = 'valid', name = conv_name_base + '2c', kernel_initializer = glorot_uniform(seed=0))(X)\n",
    "#     X = BatchNormalization(axis = 3, name = bn_name_base + '2c')(X)\n",
    "\n",
    "#     # Final step: Add shortcut value to main path, and pass it through a RELU activation (≈2 lines)\n",
    "#     X = Add()([X_shortcut, X])\n",
    "#     X = Activation('relu')(X)\n",
    "    \n",
    "    \n",
    "#     return X"
   ]
  },
  {
   "cell_type": "code",
   "execution_count": 52,
   "metadata": {
    "execution": {
     "iopub.execute_input": "2021-02-18T22:14:25.577967Z",
     "iopub.status.busy": "2021-02-18T22:14:25.577293Z",
     "iopub.status.idle": "2021-02-18T22:14:25.580180Z",
     "shell.execute_reply": "2021-02-18T22:14:25.579761Z"
    },
    "papermill": {
     "duration": 0.074182,
     "end_time": "2021-02-18T22:14:25.580288",
     "exception": false,
     "start_time": "2021-02-18T22:14:25.506106",
     "status": "completed"
    },
    "tags": []
   },
   "outputs": [],
   "source": [
    "# def convolutional_block(X, f, filters, stage, block, s = 2):\n",
    "#     \"\"\"\n",
    "#     Implementation of the convolutional block as defined in Figure 4\n",
    "    \n",
    "#     Arguments:\n",
    "#     X -- input tensor of shape (m, n_H_prev, n_W_prev, n_C_prev)\n",
    "#     f -- integer, specifying the shape of the middle CONV's window for the main path\n",
    "#     filters -- python list of integers, defining the number of filters in the CONV layers of the main path\n",
    "#     stage -- integer, used to name the layers, depending on their position in the network\n",
    "#     block -- string/character, used to name the layers, depending on their position in the network\n",
    "#     s -- Integer, specifying the stride to be used\n",
    "    \n",
    "#     Returns:\n",
    "#     X -- output of the convolutional block, tensor of shape (n_H, n_W, n_C)\n",
    "#     \"\"\"\n",
    "    \n",
    "#     # defining name basis\n",
    "#     conv_name_base = 'res' + str(stage) + block + '_branch'\n",
    "#     bn_name_base = 'bn' + str(stage) + block + '_branch'\n",
    "    \n",
    "#     # Retrieve Filters\n",
    "#     F1, F2, F3 = filters\n",
    "    \n",
    "#     # Save the input value\n",
    "#     X_shortcut = X\n",
    "\n",
    "#     ##### MAIN PATH #####\n",
    "#     # First component of main path \n",
    "#     X = Conv2D(F1, (1, 1), strides = (s,s), name = conv_name_base + '2a', kernel_initializer = glorot_uniform(seed=0))(X)\n",
    "#     X = BatchNormalization(axis = 3, name = bn_name_base + '2a')(X)\n",
    "#     X = Activation('relu')(X)\n",
    "    \n",
    "#     # Second component of main path (≈3 lines)\n",
    "#     X = Conv2D(F2, (f, f), strides = (1,1), padding='same', name = conv_name_base + '2b', kernel_initializer = glorot_uniform(seed=0))(X)\n",
    "#     X = BatchNormalization(axis = 3, name = bn_name_base + '2b')(X)\n",
    "#     X = Activation('relu')(X)\n",
    "\n",
    "#     # Third component of main path (≈2 lines)\n",
    "#     X = Conv2D(F3, (1, 1), strides = (1,1), padding='valid', name = conv_name_base + '2c', kernel_initializer = glorot_uniform(seed=0))(X)\n",
    "#     X = BatchNormalization(axis = 3, name = bn_name_base + '2c')(X)\n",
    "\n",
    "#     ##### SHORTCUT PATH #### (≈2 lines)\n",
    "#     X_shortcut = Conv2D(F3, (1, 1), strides = (s,s), padding='valid', name = conv_name_base + '1', kernel_initializer = glorot_uniform(seed=0))(X_shortcut)\n",
    "#     X_shortcut = BatchNormalization(axis = 3, name = bn_name_base + '1')(X_shortcut)\n",
    "\n",
    "#     # Final step: Add shortcut value to main path, and pass it through a RELU activation (≈2 lines)\n",
    "#     X = Add()([X, X_shortcut])\n",
    "#     X = Activation('relu')(X)\n",
    "        \n",
    "#     return X"
   ]
  },
  {
   "cell_type": "code",
   "execution_count": 53,
   "metadata": {
    "execution": {
     "iopub.execute_input": "2021-02-18T22:14:25.720516Z",
     "iopub.status.busy": "2021-02-18T22:14:25.719783Z",
     "iopub.status.idle": "2021-02-18T22:14:25.722633Z",
     "shell.execute_reply": "2021-02-18T22:14:25.722213Z"
    },
    "papermill": {
     "duration": 0.074639,
     "end_time": "2021-02-18T22:14:25.722750",
     "exception": false,
     "start_time": "2021-02-18T22:14:25.648111",
     "status": "completed"
    },
    "tags": []
   },
   "outputs": [],
   "source": [
    "# def ResNet50(input_shape = (64, 64, 3), classes = 6):\n",
    "#     \"\"\"\n",
    "#     Implementation of the popular ResNet50 the following architecture:\n",
    "#     CONV2D -> BATCHNORM -> RELU -> MAXPOOL -> CONVBLOCK -> IDBLOCK*2 -> CONVBLOCK -> IDBLOCK*3\n",
    "#     -> CONVBLOCK -> IDBLOCK*5 -> CONVBLOCK -> IDBLOCK*2 -> AVGPOOL -> TOPLAYER\n",
    "\n",
    "#     Arguments:\n",
    "#     input_shape -- shape of the images of the dataset\n",
    "#     classes -- integer, number of classes\n",
    "\n",
    "#     Returns:\n",
    "#     model -- a Model() instance in Keras\n",
    "#     \"\"\"\n",
    "    \n",
    "#     # Define the input as a tensor with shape input_shape\n",
    "#     X_input = Input(input_shape)\n",
    "\n",
    "    \n",
    "#     # Zero-Padding\n",
    "#     X = ZeroPadding2D((3, 3))(X_input)\n",
    "    \n",
    "#     # Stage 1\n",
    "#     X = Conv2D(64, (7, 7), strides = (2, 2), name = 'conv1', kernel_initializer = glorot_uniform(seed=0))(X)\n",
    "#     X = BatchNormalization(axis = 3, name = 'bn_conv1')(X)\n",
    "#     X = Activation('relu')(X)\n",
    "#     X = MaxPooling2D((3, 3), strides=(2, 2))(X)\n",
    "\n",
    "#     # Stage 2\n",
    "#     X = convolutional_block(X, f = 3, filters = [64, 64, 256], stage = 2, block='a', s = 1)\n",
    "#     X = identity_block(X, 3, [64, 64, 256], stage=2, block='b')\n",
    "#     X = identity_block(X, 3, [64, 64, 256], stage=2, block='c')\n",
    "\n",
    "#     # Stage 3 (≈4 lines)\n",
    "#     X = convolutional_block(X, f = 3, filters = [128, 128, 512], stage = 3, block='a', s = 2)\n",
    "#     X = identity_block(X, 3, [128, 128, 512], stage=3, block='b')\n",
    "#     X = identity_block(X, 3, [128, 128, 512], stage=3, block='c')\n",
    "#     X = identity_block(X, 3, [128, 128, 512], stage=3, block='d')\n",
    "\n",
    "#     # Stage 4 (≈6 lines)\n",
    "#     X = convolutional_block(X, f = 3, filters = [256, 256, 1024], stage = 4, block='a', s = 2)\n",
    "#     X = identity_block(X, 3, [256, 256, 1024], stage=4, block='b')\n",
    "#     X = identity_block(X, 3, [256, 256, 1024], stage=4, block='c')\n",
    "#     X = identity_block(X, 3, [256, 256, 1024], stage=4, block='d')\n",
    "#     X = identity_block(X, 3, [256, 256, 1024], stage=4, block='e')\n",
    "#     X = identity_block(X, 3, [256, 256, 1024], stage=4, block='f')\n",
    "\n",
    "#     # Stage 5 (≈3 lines)\n",
    "#     X = convolutional_block(X, f = 3, filters = [512, 512, 2048], stage = 5, block='a', s = 2)\n",
    "#     X = identity_block(X, 3, [512, 512, 2048], stage=5, block='b')\n",
    "#     X = identity_block(X, 3, [512, 512, 2048], stage=5, block='c')\n",
    "\n",
    "#     # AVGPOOL (≈1 line). Use \"X = AveragePooling2D(...)(X)\"\n",
    "#     X = AveragePooling2D(pool_size=(2, 2), strides=None, padding=\"valid\", name=\"avg_pool\")(X)\n",
    "    \n",
    "#     # output layer\n",
    "#     X = Flatten()(X)\n",
    "#     X = Dense(classes, activation='softmax', name='fc' + str(classes), kernel_initializer = glorot_uniform(seed=0))(X)\n",
    "    \n",
    "    \n",
    "#     # Create model\n",
    "#     model = Model(inputs = X_input, outputs = X, name='ResNet50')\n",
    "\n",
    "#     return model"
   ]
  },
  {
   "cell_type": "code",
   "execution_count": 54,
   "metadata": {
    "execution": {
     "iopub.execute_input": "2021-02-18T22:14:25.897061Z",
     "iopub.status.busy": "2021-02-18T22:14:25.896386Z",
     "iopub.status.idle": "2021-02-18T22:14:25.899265Z",
     "shell.execute_reply": "2021-02-18T22:14:25.898740Z"
    },
    "papermill": {
     "duration": 0.109354,
     "end_time": "2021-02-18T22:14:25.899367",
     "exception": false,
     "start_time": "2021-02-18T22:14:25.790013",
     "status": "completed"
    },
    "tags": []
   },
   "outputs": [],
   "source": [
    "# model = ResNet50(input_shape = (400, 300, 3), classes=5)"
   ]
  },
  {
   "cell_type": "code",
   "execution_count": 55,
   "metadata": {
    "execution": {
     "iopub.execute_input": "2021-02-18T22:14:26.038029Z",
     "iopub.status.busy": "2021-02-18T22:14:26.037409Z",
     "iopub.status.idle": "2021-02-18T22:14:26.040384Z",
     "shell.execute_reply": "2021-02-18T22:14:26.039987Z"
    },
    "papermill": {
     "duration": 0.073726,
     "end_time": "2021-02-18T22:14:26.040489",
     "exception": false,
     "start_time": "2021-02-18T22:14:25.966763",
     "status": "completed"
    },
    "tags": []
   },
   "outputs": [],
   "source": [
    "# opt = keras.optimizers.Adam(learning_rate=0.01)\n",
    "# model.compile(optimizer=opt, loss='categorical_crossentropy', metrics=['accuracy'])\n",
    "\n",
    "# model.compile(optimizer='adam', loss='categorical_crossentropy', metrics=['accuracy'])"
   ]
  },
  {
   "cell_type": "code",
   "execution_count": 56,
   "metadata": {
    "execution": {
     "iopub.execute_input": "2021-02-18T22:14:26.179170Z",
     "iopub.status.busy": "2021-02-18T22:14:26.178484Z",
     "iopub.status.idle": "2021-02-18T22:14:26.181306Z",
     "shell.execute_reply": "2021-02-18T22:14:26.180897Z"
    },
    "papermill": {
     "duration": 0.073546,
     "end_time": "2021-02-18T22:14:26.181413",
     "exception": false,
     "start_time": "2021-02-18T22:14:26.107867",
     "status": "completed"
    },
    "tags": []
   },
   "outputs": [],
   "source": [
    "# class_weight = {0: 1.0,\n",
    "#                 1: 1.0,\n",
    "#                 2: 1.0,\n",
    "#                 3: 0.25,\n",
    "#                 4: 1.15}"
   ]
  },
  {
   "cell_type": "code",
   "execution_count": 57,
   "metadata": {
    "execution": {
     "iopub.execute_input": "2021-02-18T22:14:26.321749Z",
     "iopub.status.busy": "2021-02-18T22:14:26.321131Z",
     "iopub.status.idle": "2021-02-18T22:14:26.323936Z",
     "shell.execute_reply": "2021-02-18T22:14:26.323490Z"
    },
    "papermill": {
     "duration": 0.074068,
     "end_time": "2021-02-18T22:14:26.324049",
     "exception": false,
     "start_time": "2021-02-18T22:14:26.249981",
     "status": "completed"
    },
    "tags": []
   },
   "outputs": [],
   "source": [
    "# model.fit(train_generator, epochs=2, class_weight=class_weight)\n",
    "\n",
    "# model.fit(train_generator, epochs=5)"
   ]
  },
  {
   "cell_type": "markdown",
   "metadata": {
    "papermill": {
     "duration": 0.068278,
     "end_time": "2021-02-18T22:14:26.461441",
     "exception": false,
     "start_time": "2021-02-18T22:14:26.393163",
     "status": "completed"
    },
    "tags": []
   },
   "source": []
  },
  {
   "cell_type": "code",
   "execution_count": 58,
   "metadata": {
    "execution": {
     "iopub.execute_input": "2021-02-18T22:14:26.603284Z",
     "iopub.status.busy": "2021-02-18T22:14:26.602473Z",
     "iopub.status.idle": "2021-02-18T22:14:35.422209Z",
     "shell.execute_reply": "2021-02-18T22:14:35.423304Z"
    },
    "papermill": {
     "duration": 8.893965,
     "end_time": "2021-02-18T22:14:35.423570",
     "exception": false,
     "start_time": "2021-02-18T22:14:26.529605",
     "status": "completed"
    },
    "tags": []
   },
   "outputs": [
    {
     "name": "stdout",
     "output_type": "stream",
     "text": [
      "Found 213 validated image filenames belonging to 5 classes.\n"
     ]
    }
   ],
   "source": [
    "val_generator=datagen.flow_from_dataframe(\n",
    "dataframe=train_df,\n",
    "directory=images_directory,\n",
    "x_col=\"image_id\",\n",
    "y_col=\"label_typecasted\",\n",
    "subset=\"validation\",\n",
    "batch_size=32,\n",
    "seed=42,\n",
    "shuffle=False,\n",
    "class_mode=\"categorical\",\n",
    "target_size=(300,300))"
   ]
  },
  {
   "cell_type": "code",
   "execution_count": 59,
   "metadata": {
    "execution": {
     "iopub.execute_input": "2021-02-18T22:14:35.679786Z",
     "iopub.status.busy": "2021-02-18T22:14:35.679015Z",
     "iopub.status.idle": "2021-02-18T22:14:35.682070Z",
     "shell.execute_reply": "2021-02-18T22:14:35.680421Z"
    },
    "papermill": {
     "duration": 0.137649,
     "end_time": "2021-02-18T22:14:35.682211",
     "exception": false,
     "start_time": "2021-02-18T22:14:35.544562",
     "status": "completed"
    },
    "tags": []
   },
   "outputs": [
    {
     "data": {
      "text/plain": [
       "7"
      ]
     },
     "execution_count": 59,
     "metadata": {},
     "output_type": "execute_result"
    }
   ],
   "source": [
    "len(val_generator)"
   ]
  },
  {
   "cell_type": "code",
   "execution_count": 60,
   "metadata": {
    "execution": {
     "iopub.execute_input": "2021-02-18T22:14:35.880703Z",
     "iopub.status.busy": "2021-02-18T22:14:35.879124Z",
     "iopub.status.idle": "2021-02-18T22:14:35.881484Z",
     "shell.execute_reply": "2021-02-18T22:14:35.881947Z"
    },
    "papermill": {
     "duration": 0.097475,
     "end_time": "2021-02-18T22:14:35.882074",
     "exception": false,
     "start_time": "2021-02-18T22:14:35.784599",
     "status": "completed"
    },
    "tags": []
   },
   "outputs": [],
   "source": [
    "# center_crop_augmentation = tf.keras.layers.experimental.preprocessing.CenterCrop(\n",
    "#     height=1, width=1\n",
    "# )"
   ]
  },
  {
   "cell_type": "code",
   "execution_count": 61,
   "metadata": {
    "execution": {
     "iopub.execute_input": "2021-02-18T22:14:36.086988Z",
     "iopub.status.busy": "2021-02-18T22:14:36.086224Z",
     "iopub.status.idle": "2021-02-18T22:14:36.088184Z",
     "shell.execute_reply": "2021-02-18T22:14:36.087609Z"
    },
    "papermill": {
     "duration": 0.10973,
     "end_time": "2021-02-18T22:14:36.088325",
     "exception": false,
     "start_time": "2021-02-18T22:14:35.978595",
     "status": "completed"
    },
    "tags": []
   },
   "outputs": [],
   "source": [
    "# datagen_cropped = tf.keras.preprocessing.image.ImageDataGenerator(\n",
    "#     validation_split=0.01,\n",
    "#     preprocessing_function=center_crop_augmentation\n",
    "# )"
   ]
  },
  {
   "cell_type": "code",
   "execution_count": 62,
   "metadata": {
    "execution": {
     "iopub.execute_input": "2021-02-18T22:14:36.286779Z",
     "iopub.status.busy": "2021-02-18T22:14:36.286043Z",
     "iopub.status.idle": "2021-02-18T22:14:36.288777Z",
     "shell.execute_reply": "2021-02-18T22:14:36.288296Z"
    },
    "papermill": {
     "duration": 0.084106,
     "end_time": "2021-02-18T22:14:36.288931",
     "exception": false,
     "start_time": "2021-02-18T22:14:36.204825",
     "status": "completed"
    },
    "tags": []
   },
   "outputs": [],
   "source": [
    "# train_generator_center_cropped=datagen_cropped.flow_from_dataframe(\n",
    "# dataframe=train_df,\n",
    "# directory=images_directory,\n",
    "# x_col=\"image_id\",\n",
    "# y_col=\"label_typecasted\",\n",
    "# subset=\"training\",\n",
    "# batch_size=32,\n",
    "# seed=42,\n",
    "# shuffle=True,\n",
    "# class_mode=\"categorical\",\n",
    "# horizontal_flip = 0.5,\n",
    "# vertical_flip=0.2,\n",
    "# # rotation_range=30,\n",
    "# # brightness_range=[0.4,1.0],\n",
    "# rotation_range=10,\n",
    "# brightness_range=[0.75,1.0],\n",
    "# # target_size=(300, 300)\n",
    "# )"
   ]
  },
  {
   "cell_type": "code",
   "execution_count": 63,
   "metadata": {
    "execution": {
     "iopub.execute_input": "2021-02-18T22:14:36.429932Z",
     "iopub.status.busy": "2021-02-18T22:14:36.429326Z",
     "iopub.status.idle": "2021-02-18T22:14:36.431857Z",
     "shell.execute_reply": "2021-02-18T22:14:36.432305Z"
    },
    "papermill": {
     "duration": 0.074347,
     "end_time": "2021-02-18T22:14:36.432427",
     "exception": false,
     "start_time": "2021-02-18T22:14:36.358080",
     "status": "completed"
    },
    "tags": []
   },
   "outputs": [],
   "source": [
    "# for batch, image in train_generator_center_cropped:\n",
    "#     print(batch.shape, image.shape)\n",
    "#     break"
   ]
  },
  {
   "cell_type": "code",
   "execution_count": 64,
   "metadata": {
    "execution": {
     "iopub.execute_input": "2021-02-18T22:14:36.572959Z",
     "iopub.status.busy": "2021-02-18T22:14:36.572246Z",
     "iopub.status.idle": "2021-02-18T22:14:36.574570Z",
     "shell.execute_reply": "2021-02-18T22:14:36.574999Z"
    },
    "papermill": {
     "duration": 0.074008,
     "end_time": "2021-02-18T22:14:36.575121",
     "exception": false,
     "start_time": "2021-02-18T22:14:36.501113",
     "status": "completed"
    },
    "tags": []
   },
   "outputs": [],
   "source": [
    "# preds=model.evaluate(val_generator)"
   ]
  },
  {
   "cell_type": "code",
   "execution_count": 65,
   "metadata": {
    "execution": {
     "iopub.execute_input": "2021-02-18T22:14:36.716003Z",
     "iopub.status.busy": "2021-02-18T22:14:36.715334Z",
     "iopub.status.idle": "2021-02-18T22:14:36.718273Z",
     "shell.execute_reply": "2021-02-18T22:14:36.717773Z"
    },
    "papermill": {
     "duration": 0.074747,
     "end_time": "2021-02-18T22:14:36.718378",
     "exception": false,
     "start_time": "2021-02-18T22:14:36.643631",
     "status": "completed"
    },
    "tags": []
   },
   "outputs": [],
   "source": [
    "# from kaggle_datasets import KaggleDatasets\n",
    "# import re"
   ]
  },
  {
   "cell_type": "code",
   "execution_count": 66,
   "metadata": {
    "execution": {
     "iopub.execute_input": "2021-02-18T22:14:36.859726Z",
     "iopub.status.busy": "2021-02-18T22:14:36.859118Z",
     "iopub.status.idle": "2021-02-18T22:14:36.861447Z",
     "shell.execute_reply": "2021-02-18T22:14:36.861965Z"
    },
    "papermill": {
     "duration": 0.074602,
     "end_time": "2021-02-18T22:14:36.862087",
     "exception": false,
     "start_time": "2021-02-18T22:14:36.787485",
     "status": "completed"
    },
    "tags": []
   },
   "outputs": [],
   "source": [
    "# GCS_PATH = KaggleDatasets().get_gcs_path()"
   ]
  },
  {
   "cell_type": "code",
   "execution_count": 67,
   "metadata": {
    "execution": {
     "iopub.execute_input": "2021-02-18T22:14:37.003335Z",
     "iopub.status.busy": "2021-02-18T22:14:37.002649Z",
     "iopub.status.idle": "2021-02-18T22:14:37.005031Z",
     "shell.execute_reply": "2021-02-18T22:14:37.005467Z"
    },
    "papermill": {
     "duration": 0.074319,
     "end_time": "2021-02-18T22:14:37.005585",
     "exception": false,
     "start_time": "2021-02-18T22:14:36.931266",
     "status": "completed"
    },
    "tags": []
   },
   "outputs": [],
   "source": [
    "# def count_data_items(filenames):\n",
    "#     n = [int(re.compile(r\"-([0-9]*)\\.\").search(filename).group(1)) for filename in filenames]\n",
    "#     return np.sum(n)"
   ]
  },
  {
   "cell_type": "code",
   "execution_count": 68,
   "metadata": {
    "execution": {
     "iopub.execute_input": "2021-02-18T22:14:37.146982Z",
     "iopub.status.busy": "2021-02-18T22:14:37.146220Z",
     "iopub.status.idle": "2021-02-18T22:14:37.148538Z",
     "shell.execute_reply": "2021-02-18T22:14:37.148925Z"
    },
    "papermill": {
     "duration": 0.074773,
     "end_time": "2021-02-18T22:14:37.149049",
     "exception": false,
     "start_time": "2021-02-18T22:14:37.074276",
     "status": "completed"
    },
    "tags": []
   },
   "outputs": [],
   "source": [
    "# def get_test_dataset(ordered=False):\n",
    "#     dataset = load_dataset(TEST_FILENAMES, labeled=False, ordered=ordered)\n",
    "#     dataset = dataset.batch(BATCH_SIZE)\n",
    "#     dataset = dataset.prefetch(AUTOTUNE)\n",
    "#     return dataset"
   ]
  },
  {
   "cell_type": "code",
   "execution_count": 69,
   "metadata": {
    "execution": {
     "iopub.execute_input": "2021-02-18T22:14:37.302048Z",
     "iopub.status.busy": "2021-02-18T22:14:37.301172Z",
     "iopub.status.idle": "2021-02-18T22:14:37.304213Z",
     "shell.execute_reply": "2021-02-18T22:14:37.303697Z"
    },
    "papermill": {
     "duration": 0.08263,
     "end_time": "2021-02-18T22:14:37.304329",
     "exception": false,
     "start_time": "2021-02-18T22:14:37.221699",
     "status": "completed"
    },
    "tags": []
   },
   "outputs": [],
   "source": [
    "# def load_dataset(filenames, labeled=True, ordered=False):\n",
    "#     ignore_order = tf.data.Options()\n",
    "#     if not ordered:\n",
    "#         ignore_order.experimental_deterministic = False # disable order, increase speed\n",
    "#     dataset = tf.data.TFRecordDataset(filenames, num_parallel_reads=AUTOTUNE) # automatically interleaves reads from multiple files\n",
    "#     dataset = dataset.with_options(ignore_order) # uses data as soon as it streams in, rather than in its original order\n",
    "#     dataset = dataset.map(partial(read_tfrecord, labeled=labeled), num_parallel_calls=AUTOTUNE)\n",
    "#     return dataset"
   ]
  },
  {
   "cell_type": "code",
   "execution_count": 70,
   "metadata": {
    "execution": {
     "iopub.execute_input": "2021-02-18T22:14:37.446138Z",
     "iopub.status.busy": "2021-02-18T22:14:37.445487Z",
     "iopub.status.idle": "2021-02-18T22:14:37.448323Z",
     "shell.execute_reply": "2021-02-18T22:14:37.447810Z"
    },
    "papermill": {
     "duration": 0.074547,
     "end_time": "2021-02-18T22:14:37.448422",
     "exception": false,
     "start_time": "2021-02-18T22:14:37.373875",
     "status": "completed"
    },
    "tags": []
   },
   "outputs": [],
   "source": [
    "# from functools import partial"
   ]
  },
  {
   "cell_type": "code",
   "execution_count": 71,
   "metadata": {
    "execution": {
     "iopub.execute_input": "2021-02-18T22:14:37.589603Z",
     "iopub.status.busy": "2021-02-18T22:14:37.588949Z",
     "iopub.status.idle": "2021-02-18T22:14:37.591800Z",
     "shell.execute_reply": "2021-02-18T22:14:37.591305Z"
    },
    "papermill": {
     "duration": 0.074321,
     "end_time": "2021-02-18T22:14:37.591920",
     "exception": false,
     "start_time": "2021-02-18T22:14:37.517599",
     "status": "completed"
    },
    "tags": []
   },
   "outputs": [],
   "source": [
    "# def read_tfrecord(example, labeled):\n",
    "#     tfrecord_format = {\n",
    "#         \"image\": tf.io.FixedLenFeature([], tf.string),\n",
    "#         \"target\": tf.io.FixedLenFeature([], tf.int64)\n",
    "#     } if labeled else {\n",
    "#         \"image\": tf.io.FixedLenFeature([], tf.string),\n",
    "#         \"image_name\": tf.io.FixedLenFeature([], tf.string)\n",
    "#     }\n",
    "#     example = tf.io.parse_single_example(example, tfrecord_format)\n",
    "#     image = decode_image(example['image'])\n",
    "#     if labeled:\n",
    "#         label = tf.cast(example['target'], tf.int32)\n",
    "#         return image, label\n",
    "#     idnum = example['image_name']\n",
    "#     return image, idnum"
   ]
  },
  {
   "cell_type": "code",
   "execution_count": 72,
   "metadata": {
    "execution": {
     "iopub.execute_input": "2021-02-18T22:14:37.732412Z",
     "iopub.status.busy": "2021-02-18T22:14:37.731734Z",
     "iopub.status.idle": "2021-02-18T22:14:37.734664Z",
     "shell.execute_reply": "2021-02-18T22:14:37.734135Z"
    },
    "papermill": {
     "duration": 0.074282,
     "end_time": "2021-02-18T22:14:37.734766",
     "exception": false,
     "start_time": "2021-02-18T22:14:37.660484",
     "status": "completed"
    },
    "tags": []
   },
   "outputs": [],
   "source": [
    "# def decode_image(image):\n",
    "#     image = tf.image.decode_jpeg(image, channels=3)\n",
    "#     image = tf.cast(image, tf.float32) / 255.0\n",
    "#     image = tf.reshape(image, [*IMAGE_SIZE, 3])\n",
    "#     return image"
   ]
  },
  {
   "cell_type": "code",
   "execution_count": 73,
   "metadata": {
    "execution": {
     "iopub.execute_input": "2021-02-18T22:14:37.876633Z",
     "iopub.status.busy": "2021-02-18T22:14:37.875963Z",
     "iopub.status.idle": "2021-02-18T22:14:37.878790Z",
     "shell.execute_reply": "2021-02-18T22:14:37.878375Z"
    },
    "papermill": {
     "duration": 0.074705,
     "end_time": "2021-02-18T22:14:37.878957",
     "exception": false,
     "start_time": "2021-02-18T22:14:37.804252",
     "status": "completed"
    },
    "tags": []
   },
   "outputs": [],
   "source": [
    "# # this code will convert our test image data to a float32 \n",
    "# def to_float32(image, label):\n",
    "#     return tf.cast(image, tf.float32), label"
   ]
  },
  {
   "cell_type": "code",
   "execution_count": 74,
   "metadata": {
    "execution": {
     "iopub.execute_input": "2021-02-18T22:14:38.019510Z",
     "iopub.status.busy": "2021-02-18T22:14:38.018912Z",
     "iopub.status.idle": "2021-02-18T22:14:38.021715Z",
     "shell.execute_reply": "2021-02-18T22:14:38.021331Z"
    },
    "papermill": {
     "duration": 0.074198,
     "end_time": "2021-02-18T22:14:38.021849",
     "exception": false,
     "start_time": "2021-02-18T22:14:37.947651",
     "status": "completed"
    },
    "tags": []
   },
   "outputs": [],
   "source": [
    "# # BATCH_SIZE = 16 * strategy.num_replicas_in_sync\n",
    "# BATCH_SIZE = 32\n",
    "# IMAGE_SIZE = [400, 300]\n",
    "# TEST_FILENAMES = tf.io.gfile.glob(GCS_PATH + '/test_tfrecords/ld_test*.tfrec')\n",
    "# print(TEST_FILENAMES)\n",
    "# AUTOTUNE = tf.data.experimental.AUTOTUNE\n",
    "# testing_dataset = get_test_dataset()\n",
    "# testing_dataset = testing_dataset.unbatch().batch(32)\n",
    "# NUM_TEST_IMAGES = count_data_items(TEST_FILENAMES)\n",
    "# print(NUM_TEST_IMAGES)"
   ]
  },
  {
   "cell_type": "code",
   "execution_count": 75,
   "metadata": {
    "execution": {
     "iopub.execute_input": "2021-02-18T22:14:38.163709Z",
     "iopub.status.busy": "2021-02-18T22:14:38.163001Z",
     "iopub.status.idle": "2021-02-18T22:14:38.165763Z",
     "shell.execute_reply": "2021-02-18T22:14:38.165262Z"
    },
    "papermill": {
     "duration": 0.074926,
     "end_time": "2021-02-18T22:14:38.165972",
     "exception": false,
     "start_time": "2021-02-18T22:14:38.091046",
     "status": "completed"
    },
    "tags": []
   },
   "outputs": [],
   "source": [
    "# test_ds = get_test_dataset(ordered=True) \n",
    "# test_ds = test_ds.map(to_float32)\n",
    "# print('Computing predictions...')\n",
    "# test_images_ds = testing_dataset\n",
    "# test_images_ds = test_ds.map(lambda image, idnum: image)\n",
    "# print(test_images_ds)\n",
    "# probabilities = model.predict(test_images_ds)\n",
    "# # predictions = np.argmax(probabilities, axis=-1)\n",
    "# # print(predictions)"
   ]
  },
  {
   "cell_type": "code",
   "execution_count": 76,
   "metadata": {
    "execution": {
     "iopub.execute_input": "2021-02-18T22:14:38.307977Z",
     "iopub.status.busy": "2021-02-18T22:14:38.307258Z",
     "iopub.status.idle": "2021-02-18T22:14:38.310031Z",
     "shell.execute_reply": "2021-02-18T22:14:38.309614Z"
    },
    "papermill": {
     "duration": 0.075078,
     "end_time": "2021-02-18T22:14:38.310139",
     "exception": false,
     "start_time": "2021-02-18T22:14:38.235061",
     "status": "completed"
    },
    "tags": []
   },
   "outputs": [],
   "source": [
    "# print('Generating submission.csv file...')\n",
    "# test_ids_ds = test_ds.map(lambda image, idnum: idnum).unbatch()\n",
    "# test_ids = next(iter(test_ids_ds.batch(NUM_TEST_IMAGES))).numpy().astype('U') # all in one batch\n",
    "# np.savetxt('submission.csv', np.rec.fromarrays([test_ids, predictions]), fmt=['%s', '%d'], delimiter=',', header='id,label', comments='')\n",
    "# !head submission.csv"
   ]
  },
  {
   "cell_type": "code",
   "execution_count": 77,
   "metadata": {
    "execution": {
     "iopub.execute_input": "2021-02-18T22:14:38.451955Z",
     "iopub.status.busy": "2021-02-18T22:14:38.451350Z",
     "iopub.status.idle": "2021-02-18T22:14:38.453878Z",
     "shell.execute_reply": "2021-02-18T22:14:38.454240Z"
    },
    "papermill": {
     "duration": 0.075093,
     "end_time": "2021-02-18T22:14:38.454368",
     "exception": false,
     "start_time": "2021-02-18T22:14:38.379275",
     "status": "completed"
    },
    "tags": []
   },
   "outputs": [],
   "source": [
    "from keras.applications.resnet50 import ResNet50\n",
    "from keras.models import Model\n",
    "import keras"
   ]
  },
  {
   "cell_type": "code",
   "execution_count": 78,
   "metadata": {
    "execution": {
     "iopub.execute_input": "2021-02-18T22:14:38.595937Z",
     "iopub.status.busy": "2021-02-18T22:14:38.595229Z",
     "iopub.status.idle": "2021-02-18T22:14:38.597995Z",
     "shell.execute_reply": "2021-02-18T22:14:38.597574Z"
    },
    "papermill": {
     "duration": 0.074992,
     "end_time": "2021-02-18T22:14:38.598099",
     "exception": false,
     "start_time": "2021-02-18T22:14:38.523107",
     "status": "completed"
    },
    "tags": []
   },
   "outputs": [],
   "source": [
    "import pandas as pd"
   ]
  },
  {
   "cell_type": "code",
   "execution_count": 79,
   "metadata": {
    "execution": {
     "iopub.execute_input": "2021-02-18T22:14:38.741482Z",
     "iopub.status.busy": "2021-02-18T22:14:38.740805Z",
     "iopub.status.idle": "2021-02-18T22:14:38.743191Z",
     "shell.execute_reply": "2021-02-18T22:14:38.743557Z"
    },
    "papermill": {
     "duration": 0.076451,
     "end_time": "2021-02-18T22:14:38.743674",
     "exception": false,
     "start_time": "2021-02-18T22:14:38.667223",
     "status": "completed"
    },
    "tags": []
   },
   "outputs": [],
   "source": [
    "from tensorflow.keras.layers import Dense, GlobalAveragePooling2D\n",
    "from keras.layers import Conv2D, MaxPooling2D, Flatten, Dense, Dropout, InputLayer\n",
    "from tensorflow.keras.optimizers import SGD"
   ]
  },
  {
   "cell_type": "code",
   "execution_count": 80,
   "metadata": {
    "execution": {
     "iopub.execute_input": "2021-02-18T22:14:38.887707Z",
     "iopub.status.busy": "2021-02-18T22:14:38.887035Z",
     "iopub.status.idle": "2021-02-18T22:14:38.890193Z",
     "shell.execute_reply": "2021-02-18T22:14:38.889726Z"
    },
    "papermill": {
     "duration": 0.076909,
     "end_time": "2021-02-18T22:14:38.890296",
     "exception": false,
     "start_time": "2021-02-18T22:14:38.813387",
     "status": "completed"
    },
    "tags": []
   },
   "outputs": [],
   "source": [
    "IMG_HEIGHT=300\n",
    "IMG_WIDTH=300"
   ]
  },
  {
   "cell_type": "code",
   "execution_count": 81,
   "metadata": {
    "execution": {
     "iopub.execute_input": "2021-02-18T22:14:39.032263Z",
     "iopub.status.busy": "2021-02-18T22:14:39.031580Z",
     "iopub.status.idle": "2021-02-18T22:14:39.034334Z",
     "shell.execute_reply": "2021-02-18T22:14:39.033936Z"
    },
    "papermill": {
     "duration": 0.07498,
     "end_time": "2021-02-18T22:14:39.034436",
     "exception": false,
     "start_time": "2021-02-18T22:14:38.959456",
     "status": "completed"
    },
    "tags": []
   },
   "outputs": [],
   "source": [
    "# resnet = ResNet50(include_top=False, weights='imagenet', input_shape=(IMG_HEIGHT,IMG_WIDTH,3))\n",
    "# resnet.summary()"
   ]
  },
  {
   "cell_type": "code",
   "execution_count": 82,
   "metadata": {
    "execution": {
     "iopub.execute_input": "2021-02-18T22:14:39.200272Z",
     "iopub.status.busy": "2021-02-18T22:14:39.199539Z",
     "iopub.status.idle": "2021-02-18T22:14:39.202345Z",
     "shell.execute_reply": "2021-02-18T22:14:39.201952Z"
    },
    "papermill": {
     "duration": 0.081417,
     "end_time": "2021-02-18T22:14:39.202453",
     "exception": false,
     "start_time": "2021-02-18T22:14:39.121036",
     "status": "completed"
    },
    "tags": []
   },
   "outputs": [],
   "source": [
    "# output = resnet.layers[-1].output"
   ]
  },
  {
   "cell_type": "code",
   "execution_count": 83,
   "metadata": {
    "execution": {
     "iopub.execute_input": "2021-02-18T22:14:39.344914Z",
     "iopub.status.busy": "2021-02-18T22:14:39.344269Z",
     "iopub.status.idle": "2021-02-18T22:14:39.347206Z",
     "shell.execute_reply": "2021-02-18T22:14:39.346781Z"
    },
    "papermill": {
     "duration": 0.07509,
     "end_time": "2021-02-18T22:14:39.347311",
     "exception": false,
     "start_time": "2021-02-18T22:14:39.272221",
     "status": "completed"
    },
    "tags": []
   },
   "outputs": [],
   "source": [
    "# resnet.trainable = True"
   ]
  },
  {
   "cell_type": "code",
   "execution_count": 84,
   "metadata": {
    "execution": {
     "iopub.execute_input": "2021-02-18T22:14:39.489495Z",
     "iopub.status.busy": "2021-02-18T22:14:39.488764Z",
     "iopub.status.idle": "2021-02-18T22:14:39.491261Z",
     "shell.execute_reply": "2021-02-18T22:14:39.491640Z"
    },
    "papermill": {
     "duration": 0.075126,
     "end_time": "2021-02-18T22:14:39.491763",
     "exception": false,
     "start_time": "2021-02-18T22:14:39.416637",
     "status": "completed"
    },
    "tags": []
   },
   "outputs": [],
   "source": [
    "# set_trainable = False\n",
    "# for layer in resnet.layers:\n",
    "#     if layer.name in ['res5c_branch2b', 'res5c_branch2c', 'activation_97']:\n",
    "#         set_trainable = True\n",
    "#     if set_trainable:\n",
    "#         layer.trainable = True\n",
    "#     else:\n",
    "#         layer.trainable = False\n",
    "# layers = [(layer, layer.name, layer.trainable) for layer in resnet.layers]\n",
    "# pd.DataFrame(layers, columns=['Layer Type', 'Layer Name', 'Layer Trainable'])"
   ]
  },
  {
   "cell_type": "code",
   "execution_count": 85,
   "metadata": {
    "execution": {
     "iopub.execute_input": "2021-02-18T22:14:39.634681Z",
     "iopub.status.busy": "2021-02-18T22:14:39.634064Z",
     "iopub.status.idle": "2021-02-18T22:14:39.636563Z",
     "shell.execute_reply": "2021-02-18T22:14:39.636975Z"
    },
    "papermill": {
     "duration": 0.075561,
     "end_time": "2021-02-18T22:14:39.637112",
     "exception": false,
     "start_time": "2021-02-18T22:14:39.561551",
     "status": "completed"
    },
    "tags": []
   },
   "outputs": [],
   "source": [
    "# output"
   ]
  },
  {
   "cell_type": "code",
   "execution_count": 86,
   "metadata": {
    "execution": {
     "iopub.execute_input": "2021-02-18T22:14:39.782122Z",
     "iopub.status.busy": "2021-02-18T22:14:39.781499Z",
     "iopub.status.idle": "2021-02-18T22:14:39.784312Z",
     "shell.execute_reply": "2021-02-18T22:14:39.783918Z"
    },
    "papermill": {
     "duration": 0.077572,
     "end_time": "2021-02-18T22:14:39.784425",
     "exception": false,
     "start_time": "2021-02-18T22:14:39.706853",
     "status": "completed"
    },
    "tags": []
   },
   "outputs": [],
   "source": [
    "# resnet_base = ResNet50(include_top=False, weights='imagenet', input_shape=(IMG_HEIGHT,IMG_WIDTH,3))"
   ]
  },
  {
   "cell_type": "code",
   "execution_count": 87,
   "metadata": {
    "execution": {
     "iopub.execute_input": "2021-02-18T22:14:39.941496Z",
     "iopub.status.busy": "2021-02-18T22:14:39.940777Z",
     "iopub.status.idle": "2021-02-18T22:14:40.590731Z",
     "shell.execute_reply": "2021-02-18T22:14:40.590252Z"
    },
    "papermill": {
     "duration": 0.731022,
     "end_time": "2021-02-18T22:14:40.590884",
     "exception": false,
     "start_time": "2021-02-18T22:14:39.859862",
     "status": "completed"
    },
    "tags": []
   },
   "outputs": [],
   "source": [
    "!mkdir /kaggle/working/training_models"
   ]
  },
  {
   "cell_type": "code",
   "execution_count": 88,
   "metadata": {
    "execution": {
     "iopub.execute_input": "2021-02-18T22:14:40.740463Z",
     "iopub.status.busy": "2021-02-18T22:14:40.739710Z",
     "iopub.status.idle": "2021-02-18T22:14:40.742646Z",
     "shell.execute_reply": "2021-02-18T22:14:40.742243Z"
    },
    "papermill": {
     "duration": 0.07971,
     "end_time": "2021-02-18T22:14:40.742760",
     "exception": false,
     "start_time": "2021-02-18T22:14:40.663050",
     "status": "completed"
    },
    "tags": []
   },
   "outputs": [],
   "source": [
    "# # Config 1\n",
    "# resnet_base = ResNet50(include_top=False, weights='imagenet', input_shape=(IMG_HEIGHT,IMG_WIDTH,3))\n",
    "# model = tf.keras.Sequential()\n",
    "# model.add(resnet_base)\n",
    "# model.add(BatchNormalization(axis=-1))\n",
    "# model.add(GlobalAveragePooling2D())\n",
    "# model.add(Dropout(0.5))\n",
    "# model.add(Dense(5, activation='softmax'))\n",
    "# model.compile(optimizer='adam', loss='categorical_crossentropy', metrics=['accuracy'])\n",
    "# model.summary()"
   ]
  },
  {
   "cell_type": "code",
   "execution_count": 89,
   "metadata": {
    "execution": {
     "iopub.execute_input": "2021-02-18T22:14:40.887957Z",
     "iopub.status.busy": "2021-02-18T22:14:40.887245Z",
     "iopub.status.idle": "2021-02-18T22:14:40.890137Z",
     "shell.execute_reply": "2021-02-18T22:14:40.889604Z"
    },
    "papermill": {
     "duration": 0.076785,
     "end_time": "2021-02-18T22:14:40.890245",
     "exception": false,
     "start_time": "2021-02-18T22:14:40.813460",
     "status": "completed"
    },
    "tags": []
   },
   "outputs": [],
   "source": [
    "# # Model Generation - Resnet\n",
    "# resnet_base = ResNet50(include_top=False, weights='imagenet', input_shape=(IMG_HEIGHT,IMG_WIDTH,3))\n",
    "# x = resnet_base.output #<KerasTensor: shape=(None, 13, 10, 2048) dtype=float32 (created by layer 'conv5_block3_out')>\n",
    "# x = GlobalAveragePooling2D()(x)\n",
    "# x = Dense(1024, activation='relu')(x)\n",
    "# predictions = Dense(5, activation='softmax')(x)\n",
    "# model = Model(inputs=resnet_base.input, outputs=predictions)\n",
    "\n",
    "# # model.layers\n",
    "# # first: train only the top layers (which were randomly initialized)\n",
    "# # i.e. freeze all convolutional InceptionV3 layers\n",
    "# for layer in resnet_base.layers:\n",
    "#     layer.trainable = False\n",
    "\n",
    "# model.compile(optimizer='rmsprop', loss='categorical_crossentropy', metrics=['accuracy'])\n",
    "# checkpoint_1 = tf.keras.callbacks.ModelCheckpoint('/kaggle/working/training_models/model_1{epoch:04d}.h5', period=1)\n",
    "# model.fit(train_generator, epochs=15, callbacks=[checkpoint_1])\n",
    "\n",
    "# for layer in model.layers[-13:]:\n",
    "#     layer.trainable = True\n",
    "# for layer in model.layers[:-13]:\n",
    "#     layer.trainable = False\n",
    "\n",
    "# layers = [(layer, layer.name, layer.trainable) for layer in model.layers]\n",
    "# print(\"Layers:\")\n",
    "# print(layers)\n",
    "# checkpoint_2 = tf.keras.callbacks.ModelCheckpoint('/kaggle/working/training_models/model_2{epoch:04d}.h5', period=1)\n",
    "# model.compile(optimizer=SGD(lr=0.0001, momentum=0.9), loss='categorical_crossentropy', metrics=['accuracy'])\n",
    "# # opt = keras.optimizers.Adam(learning_rate=0.001)\n",
    "# # model.compile(optimizer=opt, loss='categorical_crossentropy', metrics=['accuracy'])\n",
    "# model.fit(train_generator, epochs=15, callbacks=[checkpoint_2])"
   ]
  },
  {
   "cell_type": "code",
   "execution_count": 90,
   "metadata": {
    "execution": {
     "iopub.execute_input": "2021-02-18T22:14:41.036436Z",
     "iopub.status.busy": "2021-02-18T22:14:41.035692Z",
     "iopub.status.idle": "2021-02-18T22:14:41.038562Z",
     "shell.execute_reply": "2021-02-18T22:14:41.038156Z"
    },
    "papermill": {
     "duration": 0.077529,
     "end_time": "2021-02-18T22:14:41.038672",
     "exception": false,
     "start_time": "2021-02-18T22:14:40.961143",
     "status": "completed"
    },
    "tags": []
   },
   "outputs": [],
   "source": [
    "# # Model Generation - EfficientNet\n",
    "# # https://keras.io/examples/vision/image_classification_efficientnet_fine_tuning/\n",
    "# IMG_SIZE = 300\n",
    "# NUM_CLASSES = 5\n",
    "# from tensorflow.keras.applications import EfficientNetB3\n",
    "# from tensorflow.keras import layers\n",
    "# inputs = layers.Input(shape=(IMG_SIZE, IMG_SIZE, 3))\n",
    "# efficient_net_base_model = EfficientNetB3(weights=\"/kaggle/input/efficientnetb3-notop/efficientnetb3_notop.h5\", include_top=False, drop_connect_rate=0.3, input_shape=(IMG_SIZE,IMG_SIZE,3), input_tensor=inputs)\n",
    "# # Freeze the pretrained weights\n",
    "# efficient_net_base_model.trainable = False\n",
    "# x = layers.GlobalAveragePooling2D(name=\"avg_pool\")(efficient_net_base_model.output)\n",
    "# x = layers.BatchNormalization()(x)\n",
    "# top_dropout_rate = 0.2\n",
    "# x = layers.Dropout(top_dropout_rate, name=\"top_dropout\")(x)\n",
    "# outputs = layers.Dense(NUM_CLASSES, activation=\"softmax\", name=\"pred\")(x)\n",
    "# model = tf.keras.Model(inputs, outputs, name=\"EfficientNet\")\n",
    "# optimizer = tf.keras.optimizers.Adam(learning_rate=1e-2)\n",
    "# model.compile(optimizer=optimizer, loss=\"categorical_crossentropy\", metrics=[\"accuracy\"])\n",
    "# checkpoint_1 = tf.keras.callbacks.ModelCheckpoint('/kaggle/working/training_models/model_6{epoch:04d}.h5', period=1)\n",
    "# # model.layers\n",
    "# intial_epoch = 9\n",
    "# model.fit(train_generator, epochs=intial_epoch, validation_data=val_generator, steps_per_epoch=len(train_generator), callbacks=[checkpoint_1])\n",
    "# for layer in model.layers[-20:]:\n",
    "#     if not isinstance(layer, layers.BatchNormalization):\n",
    "#         layer.trainable = True\n",
    "\n",
    "# optimizer = tf.keras.optimizers.Adam(learning_rate=1e-4)\n",
    "# model.compile(optimizer=optimizer, loss=\"categorical_crossentropy\", metrics=[\"accuracy\"])\n",
    "# checkpoint_2 = tf.keras.callbacks.ModelCheckpoint('/kaggle/working/training_models/model_7{epoch:04d}.h5', period=1)\n",
    "# final_epoch = 20\n",
    "# model.fit(train_generator, epochs=final_epoch, validation_data=val_generator, steps_per_epoch=len(train_generator), callbacks=[checkpoint_2])"
   ]
  },
  {
   "cell_type": "code",
   "execution_count": 91,
   "metadata": {
    "execution": {
     "iopub.execute_input": "2021-02-18T22:14:41.187349Z",
     "iopub.status.busy": "2021-02-18T22:14:41.186852Z",
     "iopub.status.idle": "2021-02-18T23:31:08.531454Z",
     "shell.execute_reply": "2021-02-18T23:31:08.530484Z"
    },
    "papermill": {
     "duration": 4587.42231,
     "end_time": "2021-02-18T23:31:08.531611",
     "exception": false,
     "start_time": "2021-02-18T22:14:41.109301",
     "status": "completed"
    },
    "tags": []
   },
   "outputs": [
    {
     "name": "stdout",
     "output_type": "stream",
     "text": [
      "Epoch 1/6\n",
      "662/662 [==============================] - 853s 1s/step - loss: 0.5476 - accuracy: 0.8039 - val_loss: 0.6426 - val_accuracy: 0.7934\n",
      "Epoch 2/6\n",
      "662/662 [==============================] - 744s 1s/step - loss: 0.4752 - accuracy: 0.8307 - val_loss: 0.5736 - val_accuracy: 0.7887\n",
      "Epoch 3/6\n",
      "662/662 [==============================] - 744s 1s/step - loss: 0.4616 - accuracy: 0.8388 - val_loss: 0.5755 - val_accuracy: 0.7934\n",
      "Epoch 4/6\n",
      "662/662 [==============================] - 741s 1s/step - loss: 0.4075 - accuracy: 0.8519 - val_loss: 0.5164 - val_accuracy: 0.8357\n",
      "Epoch 5/6\n",
      "662/662 [==============================] - 752s 1s/step - loss: 0.4004 - accuracy: 0.8554 - val_loss: 0.5720 - val_accuracy: 0.8216\n",
      "Epoch 6/6\n",
      "662/662 [==============================] - 739s 1s/step - loss: 0.3814 - accuracy: 0.8633 - val_loss: 0.5682 - val_accuracy: 0.8075\n"
     ]
    },
    {
     "data": {
      "text/plain": [
       "<tensorflow.python.keras.callbacks.History at 0x7f37b021f0d0>"
      ]
     },
     "execution_count": 91,
     "metadata": {},
     "output_type": "execute_result"
    }
   ],
   "source": [
    "IMG_SIZE = 300\n",
    "NUM_CLASSES = 5\n",
    "from tensorflow.keras.applications import EfficientNetB3\n",
    "from tensorflow.keras import layers\n",
    "inputs = layers.Input(shape=(IMG_SIZE, IMG_SIZE, 3))\n",
    "# model = tf.keras.models.load_model('../input/casava-trained-model-efficient-net-15-epochs/cassava_trained_model_efficient_net_15_epochs.h5')\n",
    "# model = tf.keras.models.load_model('../input/cassava-29-epochs-70020/cassava_trained_model_efficient_net_29_epochs.h5')\n",
    "# model = tf.keras.models.load_model('../input/cassava-additional-augmentation/model_80015.h5')\n",
    "model = tf.keras.models.load_model('../input/efficientnet-augmneted/model_1230011.h5')\n",
    "for layer in model.layers[0:-42]:\n",
    "    layer.trainable = False\n",
    "for layer in model.layers[-42:]:\n",
    "    if not isinstance(layer, layers.BatchNormalization):\n",
    "        layer.trainable = True\n",
    "optimizer = tf.keras.optimizers.Adam(learning_rate=1e-4)\n",
    "model.compile(optimizer=optimizer, loss=\"categorical_crossentropy\", metrics=[\"accuracy\"])\n",
    "checkpoint_3 = tf.keras.callbacks.ModelCheckpoint('/kaggle/working/training_models/model_345{epoch:04d}.h5', period=1)\n",
    "final_epoch = 6\n",
    "model.fit(train_generator, epochs=final_epoch, validation_data=val_generator, steps_per_epoch=len(train_generator), callbacks=[checkpoint_3])"
   ]
  },
  {
   "cell_type": "code",
   "execution_count": 92,
   "metadata": {
    "execution": {
     "iopub.execute_input": "2021-02-18T23:31:10.714896Z",
     "iopub.status.busy": "2021-02-18T23:31:10.714012Z",
     "iopub.status.idle": "2021-02-18T23:31:10.716603Z",
     "shell.execute_reply": "2021-02-18T23:31:10.716199Z"
    },
    "papermill": {
     "duration": 1.077044,
     "end_time": "2021-02-18T23:31:10.716720",
     "exception": false,
     "start_time": "2021-02-18T23:31:09.639676",
     "status": "completed"
    },
    "tags": []
   },
   "outputs": [],
   "source": [
    "# IMG_SIZE = 300\n",
    "# NUM_CLASSES = 5\n",
    "# from tensorflow.keras.applications import EfficientNetB3\n",
    "# from tensorflow.keras import layers\n",
    "# inputs = layers.Input(shape=(IMG_SIZE, IMG_SIZE, 3))\n",
    "# # model = tf.keras.models.load_model('../input/casava-trained-model-efficient-net-15-epochs/cassava_trained_model_efficient_net_15_epochs.h5')\n",
    "# # model = tf.keras.models.load_model('../input/cassava-trained-model-49-epochs-823/model_80020.h5')\n",
    "# model = tf.keras.models.load_model('../input/efficientnet-latest/model_90009.h5')\n",
    "# # model.layers[-65:]\n",
    "# for layer in model.layers[0:-65]:\n",
    "#     layer.trainable = False\n",
    "# for layer in model.layers[-65:]:\n",
    "#     if not isinstance(layer, layers.BatchNormalization):\n",
    "#         layer.trainable = True\n",
    "# optimizer = tf.keras.optimizers.Adam(learning_rate=1e-4)\n",
    "# model.compile(optimizer=optimizer, loss=\"categorical_crossentropy\", metrics=[\"accuracy\"])\n",
    "# checkpoint_4 = tf.keras.callbacks.ModelCheckpoint('/kaggle/working/training_models/model_9{epoch:04d}.h5', period=1)\n",
    "# final_epoch = 20\n",
    "# model.fit(train_generator, epochs=final_epoch, validation_data=val_generator, steps_per_epoch=len(train_generator), callbacks=[checkpoint_4])"
   ]
  },
  {
   "cell_type": "code",
   "execution_count": 93,
   "metadata": {
    "execution": {
     "iopub.execute_input": "2021-02-18T23:31:13.429792Z",
     "iopub.status.busy": "2021-02-18T23:31:13.429041Z",
     "iopub.status.idle": "2021-02-18T23:31:15.586031Z",
     "shell.execute_reply": "2021-02-18T23:31:15.585480Z"
    },
    "papermill": {
     "duration": 3.71939,
     "end_time": "2021-02-18T23:31:15.586175",
     "exception": false,
     "start_time": "2021-02-18T23:31:11.866785",
     "status": "completed"
    },
    "tags": []
   },
   "outputs": [],
   "source": [
    "# model.save('/kaggle/working/training_models/cassava_trained_model_efficient_net_69_epochs.h5')\n",
    "# model.save('/kaggle/working/cassava_trained_model_efficient_net_49_epochs.h5')\n",
    "# model.save('cassava_trained_model_efficient_net_69_epochs.h5')\n",
    "# model.save('/kaggle/working/training_models/cassava_trained_model_efficient_net_30_epochs.h5')\n",
    "# model.save('/kaggle/working/cassava_trained_model_efficient_net_30_epochs.h5')\n",
    "# model.save('cassava_trained_model_efficient_net_30_epochs.h5')\n",
    "model.save('/kaggle/working/training_models/cassava_trained_model_efficient_net_31_epochs.h5')\n",
    "model.save('/kaggle/working/cassava_trained_model_efficient_net_31_epochs.h5')\n",
    "model.save('cassava_trained_model_efficient_net_31_epochs.h5')"
   ]
  },
  {
   "cell_type": "code",
   "execution_count": 94,
   "metadata": {
    "execution": {
     "iopub.execute_input": "2021-02-18T23:31:17.726751Z",
     "iopub.status.busy": "2021-02-18T23:31:17.725023Z",
     "iopub.status.idle": "2021-02-18T23:31:17.727375Z",
     "shell.execute_reply": "2021-02-18T23:31:17.727763Z"
    },
    "papermill": {
     "duration": 1.072194,
     "end_time": "2021-02-18T23:31:17.727913",
     "exception": false,
     "start_time": "2021-02-18T23:31:16.655719",
     "status": "completed"
    },
    "tags": []
   },
   "outputs": [],
   "source": [
    "# # # Model Generation - Resnet\n",
    "# IMG_HEIGHT=300\n",
    "# IMG_WIDTH=300\n",
    "# resnet_base = tf.keras.applications.ResNet152(include_top=False, weights='imagenet', input_shape=(IMG_HEIGHT,IMG_WIDTH,3))\n",
    "# x = resnet_base.output #<KerasTensor: shape=(None, 13, 10, 2048) dtype=float32 (created by layer 'conv5_block3_out')>\n",
    "# x = GlobalAveragePooling2D()(x)\n",
    "# x = Dense(1024, activation='relu')(x)\n",
    "# predictions = Dense(5, activation='softmax')(x)\n",
    "# model = Model(inputs=resnet_base.input, outputs=predictions)\n",
    "# # model.layers[-65:]\n",
    "\n",
    "# # first: train only the top layers (which were randomly initialized)\n",
    "# # i.e. freeze all convolutional InceptionV3 layers\n",
    "# for layer in resnet_base.layers:\n",
    "#     layer.trainable = False\n",
    "\n",
    "# model.compile(optimizer='rmsprop', loss='categorical_crossentropy', metrics=['accuracy'])\n",
    "# checkpoint_5 = tf.keras.callbacks.ModelCheckpoint('/kaggle/working/training_models/model_010{epoch:04d}.h5', period=1)\n",
    "# model.fit(train_generator, epochs=15, validation_data=val_generator, steps_per_epoch=len(train_generator), callbacks=[checkpoint_5])\n",
    "\n",
    "# for layer in model.layers[0:-65]:\n",
    "#     layer.trainable = False\n",
    "# for layer in model.layers[-65:]:\n",
    "#     if not isinstance(layer, layers.BatchNormalization):\n",
    "#         layer.trainable = True\n",
    "\n",
    "# # layers = [(layer, layer.name, layer.trainable) for layer in model.layers]\n",
    "# # print(\"Layers:\")\n",
    "# # print(layers)\n",
    "# checkpoint_6 = tf.keras.callbacks.ModelCheckpoint('/kaggle/working/training_models/model_020{epoch:04d}.h5', period=1)\n",
    "# model.compile(optimizer=SGD(lr=0.0001, momentum=0.9), loss='categorical_crossentropy', metrics=['accuracy'])\n",
    "# # opt = keras.optimizers.Adam(learning_rate=0.001)\n",
    "# # model.compile(optimizer=opt, loss='categorical_crossentropy', metrics=['accuracy'])\n",
    "# model.fit(train_generator, epochs=35, validation_data=val_generator, steps_per_epoch=len(train_generator), callbacks=[checkpoint_6])"
   ]
  },
  {
   "cell_type": "code",
   "execution_count": 95,
   "metadata": {
    "execution": {
     "iopub.execute_input": "2021-02-18T23:31:19.871742Z",
     "iopub.status.busy": "2021-02-18T23:31:19.870851Z",
     "iopub.status.idle": "2021-02-18T23:31:19.872959Z",
     "shell.execute_reply": "2021-02-18T23:31:19.873331Z"
    },
    "papermill": {
     "duration": 1.082144,
     "end_time": "2021-02-18T23:31:19.873483",
     "exception": false,
     "start_time": "2021-02-18T23:31:18.791339",
     "status": "completed"
    },
    "tags": []
   },
   "outputs": [],
   "source": [
    "# Model Saving\n",
    "# model.save('/kaggle/working/training_models/cassava_trained_model_efficient_net.h5')\n",
    "# model.save('/kaggle/working/training_models/cassava_trained_model_efficient_net_25_epochs.h5')\n",
    "# model.save('/kaggle/working/training_models/cassava_trained_model_efficient_net_29_epochs.h5')\n",
    "# model.save('/kaggle/working/training_models/cassava_trained_model_efficient_net_49_epochs.h5')"
   ]
  },
  {
   "cell_type": "code",
   "execution_count": 96,
   "metadata": {
    "execution": {
     "iopub.execute_input": "2021-02-18T23:31:22.039223Z",
     "iopub.status.busy": "2021-02-18T23:31:22.038636Z",
     "iopub.status.idle": "2021-02-18T23:31:22.043060Z",
     "shell.execute_reply": "2021-02-18T23:31:22.042589Z"
    },
    "papermill": {
     "duration": 1.108463,
     "end_time": "2021-02-18T23:31:22.043181",
     "exception": false,
     "start_time": "2021-02-18T23:31:20.934718",
     "status": "completed"
    },
    "tags": []
   },
   "outputs": [],
   "source": [
    "# model.save('/kaggle/working/cassava_trained_model_efficient_net.h5')\n",
    "# model.save('/kaggle/working/cassava_trained_model_efficient_net_25_epochs.h5')\n",
    "# model.save('/kaggle/working/cassava_trained_model_efficient_net_29_epochs.h5')\n",
    "# model.save('/kaggle/working/cassava_trained_model_efficient_net_49_epochs.h5')"
   ]
  },
  {
   "cell_type": "code",
   "execution_count": 97,
   "metadata": {
    "execution": {
     "iopub.execute_input": "2021-02-18T23:31:24.314854Z",
     "iopub.status.busy": "2021-02-18T23:31:24.313471Z",
     "iopub.status.idle": "2021-02-18T23:31:24.315747Z",
     "shell.execute_reply": "2021-02-18T23:31:24.316434Z"
    },
    "papermill": {
     "duration": 1.169096,
     "end_time": "2021-02-18T23:31:24.316622",
     "exception": false,
     "start_time": "2021-02-18T23:31:23.147526",
     "status": "completed"
    },
    "tags": []
   },
   "outputs": [],
   "source": [
    "# model.save('cassava_trained_model_efficient_net.h5')\n",
    "# model.save('cassava_trained_model_efficient_net_25_epochs.h5')\n",
    "# model.save('cassava_trained_model_efficient_net_29_epochs.h5')\n",
    "# model.save('cassava_trained_model_efficient_net_49_epochs.h5')"
   ]
  },
  {
   "cell_type": "code",
   "execution_count": 98,
   "metadata": {
    "execution": {
     "iopub.execute_input": "2021-02-18T23:31:26.642222Z",
     "iopub.status.busy": "2021-02-18T23:31:26.641369Z",
     "iopub.status.idle": "2021-02-18T23:31:26.643466Z",
     "shell.execute_reply": "2021-02-18T23:31:26.643848Z"
    },
    "papermill": {
     "duration": 1.106489,
     "end_time": "2021-02-18T23:31:26.643987",
     "exception": false,
     "start_time": "2021-02-18T23:31:25.537498",
     "status": "completed"
    },
    "tags": []
   },
   "outputs": [],
   "source": [
    "# model_saved = tf.keras.models.load_model('/kaggle/working/training_models/cassava_trained_model.h5')"
   ]
  },
  {
   "cell_type": "code",
   "execution_count": 99,
   "metadata": {
    "execution": {
     "iopub.execute_input": "2021-02-18T23:31:28.781712Z",
     "iopub.status.busy": "2021-02-18T23:31:28.779918Z",
     "iopub.status.idle": "2021-02-18T23:31:28.782328Z",
     "shell.execute_reply": "2021-02-18T23:31:28.782716Z"
    },
    "papermill": {
     "duration": 1.074531,
     "end_time": "2021-02-18T23:31:28.782895",
     "exception": false,
     "start_time": "2021-02-18T23:31:27.708364",
     "status": "completed"
    },
    "tags": []
   },
   "outputs": [],
   "source": [
    "# model_saved = tf.keras.models.load_model(\"../working/training_models/cassava_trained_model.h5\")"
   ]
  },
  {
   "cell_type": "code",
   "execution_count": 100,
   "metadata": {
    "execution": {
     "iopub.execute_input": "2021-02-18T23:31:30.978352Z",
     "iopub.status.busy": "2021-02-18T23:31:30.968213Z",
     "iopub.status.idle": "2021-02-18T23:31:33.757376Z",
     "shell.execute_reply": "2021-02-18T23:31:33.756380Z"
    },
    "papermill": {
     "duration": 3.898388,
     "end_time": "2021-02-18T23:31:33.757516",
     "exception": false,
     "start_time": "2021-02-18T23:31:29.859128",
     "status": "completed"
    },
    "tags": []
   },
   "outputs": [],
   "source": [
    "# model_saved = tf.keras.models.load_model('cassava_trained_model_efficient_net.h5')\n",
    "# model_saved = tf.keras.models.load_model('cassava_trained_model_efficient_net_25_epochs.h5')\n",
    "# model_saved = tf.keras.models.load_model('cassava_trained_model_efficient_net_29_epochs.h5')\n",
    "# model_saved = tf.keras.models.load_model('cassava_trained_model_efficient_net_49_epochs.h5')\n",
    "# model_saved_resnet = tf.keras.models.load_model('../input/cassava-trained-model-resnet-764/cassava_trained_model.h5')\n",
    "# model_saved_efficient_net = tf.keras.models.load_model('../input/cassava-trained-model-49-epochs-823/model_80020.h5')\n",
    "# model_saved = tf.keras.models.load_model('cassava_trained_model_efficient_net_69_epochs.h5')\n",
    "# model_saved = tf.keras.models.load_model('cassava_trained_model_efficient_net_30_epochs.h5')\n",
    "model_saved = tf.keras.models.load_model('cassava_trained_model_efficient_net_31_epochs.h5')"
   ]
  },
  {
   "cell_type": "code",
   "execution_count": 101,
   "metadata": {
    "execution": {
     "iopub.execute_input": "2021-02-18T23:31:36.199016Z",
     "iopub.status.busy": "2021-02-18T23:31:36.198404Z",
     "iopub.status.idle": "2021-02-18T23:31:46.903097Z",
     "shell.execute_reply": "2021-02-18T23:31:46.904056Z"
    },
    "papermill": {
     "duration": 12.042255,
     "end_time": "2021-02-18T23:31:46.904303",
     "exception": false,
     "start_time": "2021-02-18T23:31:34.862048",
     "status": "completed"
    },
    "tags": []
   },
   "outputs": [
    {
     "name": "stdout",
     "output_type": "stream",
     "text": [
      "7/7 [==============================] - 10s 1s/step - loss: 0.6063 - accuracy: 0.7934\n"
     ]
    }
   ],
   "source": [
    "preds_saved_model = model_saved.evaluate(val_generator)\n",
    "# preds_saved_resnet_model = model_saved_resnet.evaluate(val_generator)\n",
    "# preds_saved_efficient_net_model = model_saved_efficient_net.evaluate(val_generator)"
   ]
  },
  {
   "cell_type": "code",
   "execution_count": 102,
   "metadata": {
    "execution": {
     "iopub.execute_input": "2021-02-18T23:31:49.061122Z",
     "iopub.status.busy": "2021-02-18T23:31:49.060365Z",
     "iopub.status.idle": "2021-02-18T23:31:49.063094Z",
     "shell.execute_reply": "2021-02-18T23:31:49.063480Z"
    },
    "papermill": {
     "duration": 1.072721,
     "end_time": "2021-02-18T23:31:49.063622",
     "exception": false,
     "start_time": "2021-02-18T23:31:47.990901",
     "status": "completed"
    },
    "tags": []
   },
   "outputs": [],
   "source": [
    "# from tensorflow.keras.applications.inception_v3 import InceptionV3\n",
    "# base_model = InceptionV3(weights='imagenet', include_top=False)\n",
    "\n",
    "# # add a global spatial average pooling layer\n",
    "# x_inc = base_model.output\n",
    "# x_inc = GlobalAveragePooling2D()(x_inc)\n",
    "# # let's add a fully-connected layer\n",
    "# x_inc = Dense(1024, activation='relu')(x_inc)\n",
    "# # and a logistic layer -- let's say we have 200 classes\n",
    "# predictions_inc = Dense(200, activation='softmax')(x_inc)\n",
    "# model_inc = Model(inputs=base_model.input, outputs=predictions_inc)\n"
   ]
  },
  {
   "cell_type": "code",
   "execution_count": 103,
   "metadata": {
    "execution": {
     "iopub.execute_input": "2021-02-18T23:31:51.228579Z",
     "iopub.status.busy": "2021-02-18T23:31:51.227780Z",
     "iopub.status.idle": "2021-02-18T23:31:51.230743Z",
     "shell.execute_reply": "2021-02-18T23:31:51.230327Z"
    },
    "papermill": {
     "duration": 1.074363,
     "end_time": "2021-02-18T23:31:51.230876",
     "exception": false,
     "start_time": "2021-02-18T23:31:50.156513",
     "status": "completed"
    },
    "tags": []
   },
   "outputs": [],
   "source": [
    "# model_inc.layers[249:]"
   ]
  },
  {
   "cell_type": "code",
   "execution_count": 104,
   "metadata": {
    "execution": {
     "iopub.execute_input": "2021-02-18T23:31:53.426472Z",
     "iopub.status.busy": "2021-02-18T23:31:53.425667Z",
     "iopub.status.idle": "2021-02-18T23:31:53.428188Z",
     "shell.execute_reply": "2021-02-18T23:31:53.428566Z"
    },
    "papermill": {
     "duration": 1.12464,
     "end_time": "2021-02-18T23:31:53.428699",
     "exception": false,
     "start_time": "2021-02-18T23:31:52.304059",
     "status": "completed"
    },
    "tags": []
   },
   "outputs": [],
   "source": [
    "# # TPU\n",
    "# tpu = tf.distribute.cluster_resolver.TPUClusterResolver()\n",
    "# tf.config.experimental_connect_to_cluster(tpu)\n",
    "# tf.tpu.experimental.initialize_tpu_system(tpu)\n",
    "# strategy = tf.distribute.experimental.TPUStrategy(tpu)"
   ]
  },
  {
   "cell_type": "code",
   "execution_count": 105,
   "metadata": {
    "execution": {
     "iopub.execute_input": "2021-02-18T23:31:55.586027Z",
     "iopub.status.busy": "2021-02-18T23:31:55.585360Z",
     "iopub.status.idle": "2021-02-18T23:31:55.588007Z",
     "shell.execute_reply": "2021-02-18T23:31:55.588375Z"
    },
    "papermill": {
     "duration": 1.083584,
     "end_time": "2021-02-18T23:31:55.588514",
     "exception": false,
     "start_time": "2021-02-18T23:31:54.504930",
     "status": "completed"
    },
    "tags": []
   },
   "outputs": [],
   "source": [
    "# # TPU\n",
    "# with tpu_strategy.scope():\n",
    "#     resnet_base = ResNet50(include_top=False, weights='imagenet', input_shape=(IMG_HEIGHT,IMG_WIDTH,3))\n",
    "#     model = tf.keras.Sequential()\n",
    "#     model.add(resnet_base)\n",
    "#     model.add(BatchNormalization(axis=-1))\n",
    "#     model.add(GlobalAveragePooling2D())\n",
    "#     model.add(Dropout(0.5))\n",
    "#     model.add(Dense(5, activation='softmax'))\n",
    "#     model.compile(optimizer='adam', loss='categorical_crossentropy', metrics=['accuracy'])\n",
    "#     model.summary()"
   ]
  },
  {
   "cell_type": "code",
   "execution_count": 106,
   "metadata": {
    "execution": {
     "iopub.execute_input": "2021-02-18T23:31:58.006629Z",
     "iopub.status.busy": "2021-02-18T23:31:58.005769Z",
     "iopub.status.idle": "2021-02-18T23:31:58.008318Z",
     "shell.execute_reply": "2021-02-18T23:31:58.007890Z"
    },
    "papermill": {
     "duration": 1.339873,
     "end_time": "2021-02-18T23:31:58.008438",
     "exception": false,
     "start_time": "2021-02-18T23:31:56.668565",
     "status": "completed"
    },
    "tags": []
   },
   "outputs": [],
   "source": [
    "# len(resnet_base.layers)"
   ]
  },
  {
   "cell_type": "code",
   "execution_count": 107,
   "metadata": {
    "execution": {
     "iopub.execute_input": "2021-02-18T23:32:00.181562Z",
     "iopub.status.busy": "2021-02-18T23:32:00.181046Z",
     "iopub.status.idle": "2021-02-18T23:32:00.192872Z",
     "shell.execute_reply": "2021-02-18T23:32:00.192338Z"
    },
    "papermill": {
     "duration": 1.102581,
     "end_time": "2021-02-18T23:32:00.193006",
     "exception": false,
     "start_time": "2021-02-18T23:31:59.090425",
     "status": "completed"
    },
    "tags": []
   },
   "outputs": [
    {
     "data": {
      "text/html": [
       "<div>\n",
       "<style scoped>\n",
       "    .dataframe tbody tr th:only-of-type {\n",
       "        vertical-align: middle;\n",
       "    }\n",
       "\n",
       "    .dataframe tbody tr th {\n",
       "        vertical-align: top;\n",
       "    }\n",
       "\n",
       "    .dataframe thead th {\n",
       "        text-align: right;\n",
       "    }\n",
       "</style>\n",
       "<table border=\"1\" class=\"dataframe\">\n",
       "  <thead>\n",
       "    <tr style=\"text-align: right;\">\n",
       "      <th></th>\n",
       "      <th>image_id</th>\n",
       "      <th>label</th>\n",
       "    </tr>\n",
       "  </thead>\n",
       "  <tbody>\n",
       "    <tr>\n",
       "      <th>0</th>\n",
       "      <td>2216849948.jpg</td>\n",
       "      <td>4</td>\n",
       "    </tr>\n",
       "  </tbody>\n",
       "</table>\n",
       "</div>"
      ],
      "text/plain": [
       "         image_id  label\n",
       "0  2216849948.jpg      4"
      ]
     },
     "execution_count": 107,
     "metadata": {},
     "output_type": "execute_result"
    }
   ],
   "source": [
    "pd.read_csv('/kaggle/input/cassava-leaf-disease-classification/sample_submission.csv')"
   ]
  },
  {
   "cell_type": "code",
   "execution_count": 108,
   "metadata": {
    "execution": {
     "iopub.execute_input": "2021-02-18T23:32:02.398479Z",
     "iopub.status.busy": "2021-02-18T23:32:02.397678Z",
     "iopub.status.idle": "2021-02-18T23:32:02.405721Z",
     "shell.execute_reply": "2021-02-18T23:32:02.405287Z"
    },
    "papermill": {
     "duration": 1.127837,
     "end_time": "2021-02-18T23:32:02.405862",
     "exception": false,
     "start_time": "2021-02-18T23:32:01.278025",
     "status": "completed"
    },
    "tags": []
   },
   "outputs": [],
   "source": [
    "test_images = []\n",
    "for dirname, _, filenames in os.walk('/kaggle/input/cassava-leaf-disease-classification/test_images'):\n",
    "    for filename in filenames:\n",
    "#         print(os.path.join(dirname, filename))\n",
    "        test_images.append(filename)\n",
    "# test_images"
   ]
  },
  {
   "cell_type": "code",
   "execution_count": 109,
   "metadata": {
    "execution": {
     "iopub.execute_input": "2021-02-18T23:32:04.558732Z",
     "iopub.status.busy": "2021-02-18T23:32:04.558012Z",
     "iopub.status.idle": "2021-02-18T23:32:04.560932Z",
     "shell.execute_reply": "2021-02-18T23:32:04.560492Z"
    },
    "papermill": {
     "duration": 1.079741,
     "end_time": "2021-02-18T23:32:04.561054",
     "exception": false,
     "start_time": "2021-02-18T23:32:03.481313",
     "status": "completed"
    },
    "tags": []
   },
   "outputs": [],
   "source": [
    "test_images_csv = '/kaggle/input/cassava-leaf-disease-classification/sample_submission.csv'\n",
    "test_images_directory = '/kaggle/input/cassava-leaf-disease-classification/test_images'\n",
    "df_test = pd.read_csv(test_images_csv)"
   ]
  },
  {
   "cell_type": "code",
   "execution_count": 110,
   "metadata": {
    "execution": {
     "iopub.execute_input": "2021-02-18T23:32:06.707728Z",
     "iopub.status.busy": "2021-02-18T23:32:06.706902Z",
     "iopub.status.idle": "2021-02-18T23:32:06.716902Z",
     "shell.execute_reply": "2021-02-18T23:32:06.716373Z"
    },
    "papermill": {
     "duration": 1.087003,
     "end_time": "2021-02-18T23:32:06.717017",
     "exception": false,
     "start_time": "2021-02-18T23:32:05.630014",
     "status": "completed"
    },
    "tags": []
   },
   "outputs": [],
   "source": [
    "# df_test['image_id']\n",
    "# df_test['label_typecasted'] = train_df['label'].apply(str)\n",
    "\n",
    "df_test['image_id'] = test_images\n",
    "df_test['label'] = None\n",
    "df_test['label'] = train_df['label'].apply(str)\n",
    "# print(df_test)"
   ]
  },
  {
   "cell_type": "code",
   "execution_count": 111,
   "metadata": {
    "execution": {
     "iopub.execute_input": "2021-02-18T23:32:09.187551Z",
     "iopub.status.busy": "2021-02-18T23:32:09.187023Z",
     "iopub.status.idle": "2021-02-18T23:32:09.197015Z",
     "shell.execute_reply": "2021-02-18T23:32:09.196412Z"
    },
    "papermill": {
     "duration": 1.40965,
     "end_time": "2021-02-18T23:32:09.197215",
     "exception": false,
     "start_time": "2021-02-18T23:32:07.787565",
     "status": "completed"
    },
    "tags": []
   },
   "outputs": [
    {
     "name": "stdout",
     "output_type": "stream",
     "text": [
      "Found 1 validated image filenames belonging to 1 classes.\n"
     ]
    }
   ],
   "source": [
    "test_path = '/kaggle/input/cassava-leaf-disease-classification/'\n",
    "datagen = tf.keras.preprocessing.image.ImageDataGenerator()\n",
    "test_generator=datagen.flow_from_dataframe(\n",
    "dataframe=df_test,\n",
    "directory=test_images_directory,\n",
    "x_col=\"image_id\",\n",
    "y_col=\"label\",\n",
    "batch_size=32,\n",
    "seed=42,\n",
    "shuffle=False,\n",
    "color_mode=\"rgb\",\n",
    "class_mode=\"categorical\",\n",
    "target_size=(300,300))"
   ]
  },
  {
   "cell_type": "code",
   "execution_count": 112,
   "metadata": {
    "execution": {
     "iopub.execute_input": "2021-02-18T23:32:11.424505Z",
     "iopub.status.busy": "2021-02-18T23:32:11.423379Z",
     "iopub.status.idle": "2021-02-18T23:32:13.603610Z",
     "shell.execute_reply": "2021-02-18T23:32:13.603107Z"
    },
    "papermill": {
     "duration": 3.299361,
     "end_time": "2021-02-18T23:32:13.603737",
     "exception": false,
     "start_time": "2021-02-18T23:32:10.304376",
     "status": "completed"
    },
    "tags": []
   },
   "outputs": [],
   "source": [
    "test_generator.reset()\n",
    "preds=model_saved.predict(test_generator)\n",
    "# # preds=model.predict(test_generator)\n",
    "# preds_efficient_net=model_saved_efficient_net.predict(test_generator)\n",
    "# test_generator.reset()\n",
    "# preds_resnet=model_saved_resnet.predict(test_generator)"
   ]
  },
  {
   "cell_type": "code",
   "execution_count": 113,
   "metadata": {
    "execution": {
     "iopub.execute_input": "2021-02-18T23:32:15.805601Z",
     "iopub.status.busy": "2021-02-18T23:32:15.803894Z",
     "iopub.status.idle": "2021-02-18T23:32:15.807791Z",
     "shell.execute_reply": "2021-02-18T23:32:15.807355Z"
    },
    "papermill": {
     "duration": 1.099196,
     "end_time": "2021-02-18T23:32:15.807923",
     "exception": false,
     "start_time": "2021-02-18T23:32:14.708727",
     "status": "completed"
    },
    "tags": []
   },
   "outputs": [
    {
     "name": "stdout",
     "output_type": "stream",
     "text": [
      "[[0.00336947 0.0032187  0.23115799 0.00103071 0.7612232 ]]\n"
     ]
    }
   ],
   "source": [
    "# print(preds_resnet)\n",
    "# print(preds_efficient_net)\n",
    "print(preds)"
   ]
  },
  {
   "cell_type": "code",
   "execution_count": 114,
   "metadata": {
    "execution": {
     "iopub.execute_input": "2021-02-18T23:32:18.036623Z",
     "iopub.status.busy": "2021-02-18T23:32:18.034831Z",
     "iopub.status.idle": "2021-02-18T23:32:18.037327Z",
     "shell.execute_reply": "2021-02-18T23:32:18.037739Z"
    },
    "papermill": {
     "duration": 1.096194,
     "end_time": "2021-02-18T23:32:18.037921",
     "exception": false,
     "start_time": "2021-02-18T23:32:16.941727",
     "status": "completed"
    },
    "tags": []
   },
   "outputs": [],
   "source": [
    "# a = 82.3 / (76.4 + 82.3)\n",
    "# b = 76.4 / (76.4 + 82.3)"
   ]
  },
  {
   "cell_type": "code",
   "execution_count": 115,
   "metadata": {
    "execution": {
     "iopub.execute_input": "2021-02-18T23:32:21.012956Z",
     "iopub.status.busy": "2021-02-18T23:32:21.012076Z",
     "iopub.status.idle": "2021-02-18T23:32:21.014695Z",
     "shell.execute_reply": "2021-02-18T23:32:21.014258Z"
    },
    "papermill": {
     "duration": 1.634773,
     "end_time": "2021-02-18T23:32:21.014803",
     "exception": false,
     "start_time": "2021-02-18T23:32:19.380030",
     "status": "completed"
    },
    "tags": []
   },
   "outputs": [],
   "source": [
    "# print(a, b)"
   ]
  },
  {
   "cell_type": "code",
   "execution_count": 116,
   "metadata": {
    "execution": {
     "iopub.execute_input": "2021-02-18T23:32:23.231669Z",
     "iopub.status.busy": "2021-02-18T23:32:23.230881Z",
     "iopub.status.idle": "2021-02-18T23:32:23.233730Z",
     "shell.execute_reply": "2021-02-18T23:32:23.233316Z"
    },
    "papermill": {
     "duration": 1.091154,
     "end_time": "2021-02-18T23:32:23.233866",
     "exception": false,
     "start_time": "2021-02-18T23:32:22.142712",
     "status": "completed"
    },
    "tags": []
   },
   "outputs": [],
   "source": [
    "# preds_efficient_net = a * preds_efficient_net\n",
    "# preds_resnet = b * preds_resnet"
   ]
  },
  {
   "cell_type": "code",
   "execution_count": 117,
   "metadata": {
    "execution": {
     "iopub.execute_input": "2021-02-18T23:32:25.368752Z",
     "iopub.status.busy": "2021-02-18T23:32:25.367945Z",
     "iopub.status.idle": "2021-02-18T23:32:25.370542Z",
     "shell.execute_reply": "2021-02-18T23:32:25.370144Z"
    },
    "papermill": {
     "duration": 1.073638,
     "end_time": "2021-02-18T23:32:25.370656",
     "exception": false,
     "start_time": "2021-02-18T23:32:24.297018",
     "status": "completed"
    },
    "tags": []
   },
   "outputs": [],
   "source": [
    "# preds_efficient_net"
   ]
  },
  {
   "cell_type": "code",
   "execution_count": 118,
   "metadata": {
    "execution": {
     "iopub.execute_input": "2021-02-18T23:32:27.614067Z",
     "iopub.status.busy": "2021-02-18T23:32:27.613114Z",
     "iopub.status.idle": "2021-02-18T23:32:27.616352Z",
     "shell.execute_reply": "2021-02-18T23:32:27.615799Z"
    },
    "papermill": {
     "duration": 1.155887,
     "end_time": "2021-02-18T23:32:27.616481",
     "exception": false,
     "start_time": "2021-02-18T23:32:26.460594",
     "status": "completed"
    },
    "tags": []
   },
   "outputs": [],
   "source": [
    "# preds_resnet"
   ]
  },
  {
   "cell_type": "code",
   "execution_count": 119,
   "metadata": {
    "execution": {
     "iopub.execute_input": "2021-02-18T23:32:29.831068Z",
     "iopub.status.busy": "2021-02-18T23:32:29.830297Z",
     "iopub.status.idle": "2021-02-18T23:32:29.833283Z",
     "shell.execute_reply": "2021-02-18T23:32:29.832856Z"
    },
    "papermill": {
     "duration": 1.100317,
     "end_time": "2021-02-18T23:32:29.833413",
     "exception": false,
     "start_time": "2021-02-18T23:32:28.733096",
     "status": "completed"
    },
    "tags": []
   },
   "outputs": [],
   "source": [
    "# total_preds = preds_efficient_net + preds_resnet"
   ]
  },
  {
   "cell_type": "code",
   "execution_count": 120,
   "metadata": {
    "execution": {
     "iopub.execute_input": "2021-02-18T23:32:32.278477Z",
     "iopub.status.busy": "2021-02-18T23:32:32.277569Z",
     "iopub.status.idle": "2021-02-18T23:32:32.280584Z",
     "shell.execute_reply": "2021-02-18T23:32:32.280084Z"
    },
    "papermill": {
     "duration": 1.09255,
     "end_time": "2021-02-18T23:32:32.280696",
     "exception": false,
     "start_time": "2021-02-18T23:32:31.188146",
     "status": "completed"
    },
    "tags": []
   },
   "outputs": [],
   "source": [
    "# total_preds"
   ]
  },
  {
   "cell_type": "code",
   "execution_count": 121,
   "metadata": {
    "execution": {
     "iopub.execute_input": "2021-02-18T23:32:34.456886Z",
     "iopub.status.busy": "2021-02-18T23:32:34.456056Z",
     "iopub.status.idle": "2021-02-18T23:32:34.459338Z",
     "shell.execute_reply": "2021-02-18T23:32:34.458799Z"
    },
    "papermill": {
     "duration": 1.094017,
     "end_time": "2021-02-18T23:32:34.459452",
     "exception": false,
     "start_time": "2021-02-18T23:32:33.365435",
     "status": "completed"
    },
    "tags": []
   },
   "outputs": [],
   "source": [
    "# for i, pred in enumerate(total_preds):\n",
    "#     df_test.loc[i, 'label'] = np.argmax(pred)\n",
    "for i, pred in enumerate(preds):\n",
    "    df_test.loc[i, 'label'] = np.argmax(pred)"
   ]
  },
  {
   "cell_type": "code",
   "execution_count": 122,
   "metadata": {
    "execution": {
     "iopub.execute_input": "2021-02-18T23:32:36.633811Z",
     "iopub.status.busy": "2021-02-18T23:32:36.633035Z",
     "iopub.status.idle": "2021-02-18T23:32:36.636850Z",
     "shell.execute_reply": "2021-02-18T23:32:36.636399Z"
    },
    "papermill": {
     "duration": 1.094193,
     "end_time": "2021-02-18T23:32:36.636979",
     "exception": false,
     "start_time": "2021-02-18T23:32:35.542786",
     "status": "completed"
    },
    "tags": []
   },
   "outputs": [
    {
     "data": {
      "text/html": [
       "<div>\n",
       "<style scoped>\n",
       "    .dataframe tbody tr th:only-of-type {\n",
       "        vertical-align: middle;\n",
       "    }\n",
       "\n",
       "    .dataframe tbody tr th {\n",
       "        vertical-align: top;\n",
       "    }\n",
       "\n",
       "    .dataframe thead th {\n",
       "        text-align: right;\n",
       "    }\n",
       "</style>\n",
       "<table border=\"1\" class=\"dataframe\">\n",
       "  <thead>\n",
       "    <tr style=\"text-align: right;\">\n",
       "      <th></th>\n",
       "      <th>image_id</th>\n",
       "      <th>label</th>\n",
       "    </tr>\n",
       "  </thead>\n",
       "  <tbody>\n",
       "    <tr>\n",
       "      <th>0</th>\n",
       "      <td>2216849948.jpg</td>\n",
       "      <td>4</td>\n",
       "    </tr>\n",
       "  </tbody>\n",
       "</table>\n",
       "</div>"
      ],
      "text/plain": [
       "         image_id label\n",
       "0  2216849948.jpg     4"
      ]
     },
     "execution_count": 122,
     "metadata": {},
     "output_type": "execute_result"
    }
   ],
   "source": [
    "df_test"
   ]
  },
  {
   "cell_type": "code",
   "execution_count": 123,
   "metadata": {
    "execution": {
     "iopub.execute_input": "2021-02-18T23:32:38.886897Z",
     "iopub.status.busy": "2021-02-18T23:32:38.885540Z",
     "iopub.status.idle": "2021-02-18T23:32:39.664648Z",
     "shell.execute_reply": "2021-02-18T23:32:39.664179Z"
    },
    "papermill": {
     "duration": 1.861497,
     "end_time": "2021-02-18T23:32:39.664780",
     "exception": false,
     "start_time": "2021-02-18T23:32:37.803283",
     "status": "completed"
    },
    "tags": []
   },
   "outputs": [
    {
     "name": "stdout",
     "output_type": "stream",
     "text": [
      "image_id,label\r\n",
      "2216849948.jpg,4\r\n"
     ]
    }
   ],
   "source": [
    "df_test.to_csv('submission.csv', index=False)\n",
    "!head submission.csv"
   ]
  },
  {
   "cell_type": "code",
   "execution_count": null,
   "metadata": {
    "papermill": {
     "duration": 1.357012,
     "end_time": "2021-02-18T23:32:42.092610",
     "exception": false,
     "start_time": "2021-02-18T23:32:40.735598",
     "status": "completed"
    },
    "tags": []
   },
   "outputs": [],
   "source": []
  }
 ],
 "metadata": {
  "kernelspec": {
   "display_name": "Python 3",
   "language": "python",
   "name": "python3"
  },
  "language_info": {
   "codemirror_mode": {
    "name": "ipython",
    "version": 3
   },
   "file_extension": ".py",
   "mimetype": "text/x-python",
   "name": "python",
   "nbconvert_exporter": "python",
   "pygments_lexer": "ipython3",
   "version": "3.7.9"
  },
  "papermill": {
   "default_parameters": {},
   "duration": 4746.811453,
   "end_time": "2021-02-18T23:32:47.031241",
   "environment_variables": {},
   "exception": null,
   "input_path": "__notebook__.ipynb",
   "output_path": "__notebook__.ipynb",
   "parameters": {},
   "start_time": "2021-02-18T22:13:40.219788",
   "version": "2.2.2"
  }
 },
 "nbformat": 4,
 "nbformat_minor": 4
}
